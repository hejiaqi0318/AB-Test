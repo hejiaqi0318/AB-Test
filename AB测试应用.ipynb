{
 "cells": [
  {
   "cell_type": "markdown",
   "id": "b84daadf-56e7-470f-8bde-69f0414b9f64",
   "metadata": {},
   "source": [
    "```\n",
    "\n",
    "\n",
    "\n",
    "```\n",
    "# A/B测试应用实战（python详解）"
   ]
  },
  {
   "cell_type": "markdown",
   "id": "801536af-8bd8-4b29-9df7-1ec0beb1e615",
   "metadata": {},
   "source": [
    "## 1. 背景\n",
    "&emsp;&emsp;某电商公司非常注重自己的落地页设计，希望通过改进设计来提高转化率。以往该公司全年转化率平均在13%左右，现在希望设计的新页面能够带来更高的转化率，希望新页面的转化率能有2%的提升，达到15%。在正式推出新页面之前，该公司希望通过AB测试在小范围的用户中进行测试，以确保新页面的效果能够达到预期目标。"
   ]
  },
  {
   "cell_type": "markdown",
   "id": "79fbb104-ac6b-45e1-859b-83c638344444",
   "metadata": {},
   "source": [
    "## 2. A/B测试基本流程"
   ]
  },
  {
   "cell_type": "markdown",
   "id": "b7d202d2-fa4b-4208-a242-93457b2d31b4",
   "metadata": {},
   "source": [
    "&emsp;&emsp;了解了基本的背景之后，就可以进入AB测试了。在进行AB测试之前，需要梳理一下AB测试的基本流程，以确保实验的顺利进行。AB测试的基本流程包括以下几个步骤：\n",
    "- <font size=3 color=\"orange\">**确定实验目标及衡量指标**</font><br>在本案例中实验目标是通过AB测试确定新落地页是否可以提升2%的转化率。衡量指标即为**页面转化率**<br><br>\n",
    "- <font size=3 color=\"orange\">**设计实验方案**</font><br>设计实验的具体方案，包括实验变量（即页面的具体改动点）、实验时间、实验样本量、划分实验组和对照组等。还需要确定实验数据的收集方法和分析方式。<br>【注】一般分析方式包括描述性统计、假设检验、置信区间估计、回归分析等等。在进行AB测试的时候，需要分析师根据实验的目标和具体情况选择合适的分析方法，并结合实际情况进行解读，提出合理的建议和决策。<br><br>\n",
    "- <font size=3 color=\"orange\">**执行实验并收集数据**</font><br>按照实验方案进行实验执行，同事记录实验数据。<br><br>\n",
    "- <font size=3 color=\"orange\">**数据分析和结果评估**</font><br>对实验数据进行分析和评估，包括对实验结果的显著性检验、效果评估等。最后给出结论和建议。<br><br>"
   ]
  },
  {
   "cell_type": "markdown",
   "id": "8e284a8e-ed9f-45b2-b5e8-5eb59497d724",
   "metadata": {},
   "source": [
    "## 3. 设计A/B test实验"
   ]
  },
  {
   "cell_type": "markdown",
   "id": "04612394-d616-4c68-a44b-96879fc68560",
   "metadata": {},
   "source": [
    "在A/B测试实验设计这一步，通常需要完成以下6个步骤：\n",
    "- 1、提出假设\n",
    "- 2、确定实验分组\n",
    "- 3、计算实验样本量及试验周期\n",
    "- 4、上线AB测试并收集数据\n",
    "- 5、数据分析及假设检验\n",
    "- 6、得出结论及建议"
   ]
  },
  {
   "cell_type": "markdown",
   "id": "807226ee-4581-47b5-88ec-aef0af6852ec",
   "metadata": {},
   "source": [
    "### **Step1：提出假设**\n",
    "&emsp;&emsp;设计AB test实验的第一步通常是提出假设。假设是对于某个特定变化我们所期望的结果，也是后续实验的基础，我们需要在后续实验中通过数据验证这个假设是否成立。如果验证成立，我们可以将这个变化推广到全部用户。如果验证不成立，则需要继续优化这个假设或者放弃这个修改方案，以寻找更好的变化。<br>\n",
    "&emsp;&emsp;在这个实验中，我们希望新页面可以提升2%的转化率，原则上我们应选择单尾检验，准确的说，**应该选择右侧单尾检验，因为我们的假设是新页面的转化率要大于旧页面的转化率**。但是，在本案例中，我们并不能确定新页面的性能一定比当前的页面更好。所以，这里选择双尾检验。"
   ]
  },
  {
   "cell_type": "markdown",
   "id": "71bed083-9df3-420a-97ea-9d3337db7966",
   "metadata": {},
   "source": [
    "> <font color=\"grey\">【补充说明】</font><br><br>\n",
    "> <font color=\"grey\">单尾检验和双尾检验是假设检验中的两种常见常见形式。它们的区别在于对假设的方向性不同：\n",
    "> - <font color=\"grey\">在单尾检验中，研究者针对假设提出了明确的方向性，例如“新设计的落地页转化率比原设计高”、“将按钮颜色从灰色改为红色将导致更多的点击”……因此只检验这个方向是否具有统计显著性，被称为单侧检验。</font>\n",
    "> - <font color=\"grey\">而在双尾检验中，研究者不确定假设所在的方向，例如“新设计的落地页转化率与原设计是否存在差异”、“改变页面布局会影响用户的满意度”……需要同时检验两个方向的统计显著性，被称为双侧检验。</font><br><br>\n",
    "> <font color=\"grey\">在AB测试中，一般应根据实验目的、数据分布情况和统计分析方法等因素来确定单尾检验或双尾检验。例如，如果实验的目的是验证新设计的落地页转化率是否明显高于旧设计，就可以选择单尾检验。但如果不确定两种设计是否存在差异，则应选择双尾检验。</font>"
   ]
  },
  {
   "cell_type": "markdown",
   "id": "29cc54fd-8434-437a-8b21-6f025fd06d6a",
   "metadata": {},
   "source": [
    "简单来说，可以这样辨别单尾/双尾检验：\n",
    "- <font color=\"orange\">如果备择假设H1中是“≠”，则是双尾检验；</font>\n",
    "- <font color=\"orange\">如果备择假设H1中是“＞”或者“≥”，则是右侧单尾检验；</font>\n",
    "- <font color=\"orange\">如果备泽假设H1中是“＜”或者“≤”，则是左侧单尾检验。</font>\n",
    "\n",
    "此外，需要特别注意的是：**想支持的结论通常放在备择假设上**。所以在本案例中，原假设和备择假设分别是：\n",
    "- **原假设H0：$P=P0$**\n",
    "- **备择假设H1：$P≠P0$**<br><br>\n",
    "其中，$P0$ 代表的是旧版落地页的转化率，$P$ 代表的是新版落地页的转化率。"
   ]
  },
  {
   "cell_type": "markdown",
   "id": "da6f96cd-a99b-4367-bcdc-7f92ba5d745d",
   "metadata": {},
   "source": [
    "============================="
   ]
  },
  {
   "cell_type": "markdown",
   "id": "1ba448e5-c3b0-4824-9559-491edfb6af27",
   "metadata": {},
   "source": [
    "### **Step2：确定实验分组**\n",
    "在此次AB测试中，我们分为实验组和对照组两组：\n",
    "- 对照组（control组）：这一组用户将看到旧版落地页\n",
    "- 实验组（treatment组）：这一组用户将看到新版落地页"
   ]
  },
  {
   "cell_type": "markdown",
   "id": "e5460eb3-f81c-466c-9578-3b4f20a77559",
   "metadata": {},
   "source": [
    "为了后续计算每一组的转化效率，需要记录每一位参与实验的用户的购买行为，也就是说无论用户看到的是新版落地页还是旧版落地页，都需要记录这位用户最终是否购买了产品。这可以通过在网站上添加相应的追踪代码来实现：\n",
    "- $0$：代表用户在测试期间没有购买产品\n",
    "- $1$：代表用户在测试期间购买了产品\n",
    "\n",
    "这样，后续就可以很容易地计算出每个组的均值，从而得到新旧两版落地页的转化率。"
   ]
  },
  {
   "cell_type": "markdown",
   "id": "6d1d83ab-45f3-408c-a9e9-ba692065d169",
   "metadata": {},
   "source": [
    "============================="
   ]
  },
  {
   "cell_type": "markdown",
   "id": "f241f02f-b5ff-4f40-8f50-a603a5e386b6",
   "metadata": {},
   "source": [
    "### **Step3：计算实验样本量、试验周期**"
   ]
  },
  {
   "cell_type": "markdown",
   "id": "0d51657e-31c8-4820-8f63-fa810cad8b03",
   "metadata": {},
   "source": [
    "- **实验样本量的确定**"
   ]
  },
  {
   "cell_type": "markdown",
   "id": "53401523-9ae0-42fe-80a0-2feb02574754",
   "metadata": {},
   "source": [
    "我们之前讲过，根据大数定律和中心极限定理，样本量越大我们的估计就会越精确，但同时也意味着成本越高，所以需要知道实验所需的最小样本量是多少，在成本可控范围里，选择合适的样本量即可。"
   ]
  },
  {
   "cell_type": "markdown",
   "id": "dd2225c0-b869-45b0-a77d-691e04f1359e",
   "metadata": {},
   "source": [
    "每一个实验组所需样本量计算公式如下："
   ]
  },
  {
   "cell_type": "markdown",
   "id": "2ea7d1d1-8f7b-48c4-90b4-f80cd18d6543",
   "metadata": {},
   "source": [
    "$$ N = \\frac{\\sigma^2}{\\delta^2}(Z_{1-\\frac{\\alpha}{2}}+Z_{1-\\beta})^2$$"
   ]
  },
  {
   "cell_type": "markdown",
   "id": "d2ca0929-d9d2-4ff5-8e9e-410014c2467b",
   "metadata": {},
   "source": [
    "在这个公式当中，$\\alpha$为犯第一类错误的概率，$\\beta$为犯第二类错误的概率，σ代表的是样本数据的标准差，δ代表的是预期实验组和对照组两组数据的差值。一般情况下，我们会设置：<br>\n",
    "- 显著性水平：$\\alpha=0.05$，即在拒绝原假设之前，我们有95%的把握新版落地页的转化率比旧版落地页要高\n",
    "- 统计功效（$1-\\beta$）：$\\beta=0.2$，即表示测试检测特定效果的能力，如果该特定效果存在的话。在此案例中就是，如果新版落地页真的比旧版转换率要高，该测试有80%的概率能检测出这个状况。"
   ]
  },
  {
   "cell_type": "markdown",
   "id": "d3d681ee-0772-4727-8282-b593ee85dcec",
   "metadata": {},
   "source": [
    "当衡量指标为比率类指标时，标准差计算公式为："
   ]
  },
  {
   "cell_type": "markdown",
   "id": "764b0792-e0f0-4fb9-b080-9baaa0e41759",
   "metadata": {},
   "source": [
    "$$ \\sigma^2 = P_A(1-P_A)+P_B(1-P_B)$$"
   ]
  },
  {
   "cell_type": "markdown",
   "id": "7b4d6c26-66ff-436c-918c-7ae645b8830d",
   "metadata": {},
   "source": [
    "其中，$P_A$和$P_B$分别是对照组和实验组的观测值。在此案例中$P_A=13\\%$，$P_B=15\\%$"
   ]
  },
  {
   "cell_type": "markdown",
   "id": "cff4f955-5bff-4651-b413-f4377810cdca",
   "metadata": {},
   "source": [
    "每个组所需的最小样本量为："
   ]
  },
  {
   "cell_type": "markdown",
   "id": "3b1c6785-ef73-4498-8143-08d30bc4db00",
   "metadata": {},
   "source": [
    "$$N = \\frac{\\sigma^2}{\\delta^2}(Z_{1-\\frac{\\alpha}{2}}+Z_{1-\\beta})^2 \\\\\n",
    "= (0.13*(1-0.13)+0.15*(1-0.15))/(0.15-0.13)^2*(1.96+0.84)^2   \\\\\n",
    "= 4716$$"
   ]
  },
  {
   "cell_type": "code",
   "execution_count": 5,
   "id": "9a7fbcf1-abd7-4537-a82d-6912341d2a19",
   "metadata": {},
   "outputs": [
    {
     "data": {
      "text/plain": [
       "4715.760000000005"
      ]
     },
     "execution_count": 5,
     "metadata": {},
     "output_type": "execute_result"
    }
   ],
   "source": [
    "(0.13*(1-0.13)+0.15*(1-0.15))/(0.15-0.13)**2*(1.96+0.84)**2"
   ]
  },
  {
   "cell_type": "code",
   "execution_count": 2,
   "id": "a6bb26f5-3efd-44b7-b94c-915930f6b3d0",
   "metadata": {},
   "outputs": [],
   "source": [
    "# 使用Python完成最小样本量计算\n",
    "import numpy as np \n",
    "import pandas as pd \n",
    "import scipy.stats as stats \n",
    "import statsmodels.stats.api as sms \n",
    "import matplotlib as mpl \n",
    "import matplotlib.pyplot as plt \n",
    "# import seaborn as sns "
   ]
  },
  {
   "cell_type": "code",
   "execution_count": 3,
   "id": "3fe3b955-ef08-4966-b9ac-959bbced5d89",
   "metadata": {},
   "outputs": [],
   "source": [
    "effect_size = sms.proportion_effectsize(0.13, 0.15) # 根据我们的预期比率计算效果量"
   ]
  },
  {
   "cell_type": "code",
   "execution_count": 5,
   "id": "553e8565-bfcb-4acf-9dbb-b0fa925ab606",
   "metadata": {},
   "outputs": [
    {
     "data": {
      "text/plain": [
       "-0.0576728617308947"
      ]
     },
     "execution_count": 5,
     "metadata": {},
     "output_type": "execute_result"
    }
   ],
   "source": [
    "effect_size"
   ]
  },
  {
   "cell_type": "code",
   "execution_count": 6,
   "id": "4a6055b7-1634-4190-b8ad-d63d51e0c62a",
   "metadata": {},
   "outputs": [],
   "source": [
    "required_n = sms.NormalIndPower().solve_power( \n",
    "    effect_size, \n",
    "    power=0.8, \n",
    "    alpha=0.05, \n",
    "    ratio=1 ,\n",
    "    ) # 计算所需的样本量"
   ]
  },
  {
   "cell_type": "code",
   "execution_count": 7,
   "id": "7ea92938-7bee-4706-bff9-9dbcd89e9179",
   "metadata": {},
   "outputs": [
    {
     "data": {
      "text/plain": [
       "4719.4740575998185"
      ]
     },
     "execution_count": 7,
     "metadata": {},
     "output_type": "execute_result"
    }
   ],
   "source": [
    "required_n"
   ]
  },
  {
   "cell_type": "code",
   "execution_count": 8,
   "id": "5357898a-2b24-440f-8eeb-eabfecef82d8",
   "metadata": {},
   "outputs": [
    {
     "data": {
      "text/plain": [
       "4720.0"
      ]
     },
     "execution_count": 8,
     "metadata": {},
     "output_type": "execute_result"
    }
   ],
   "source": [
    "np.ceil(required_n) #向上取整"
   ]
  },
  {
   "cell_type": "markdown",
   "id": "74156fc7-07de-4ddd-be24-c2c05c458a87",
   "metadata": {},
   "source": [
    "- 实验周期的确定"
   ]
  },
  {
   "cell_type": "markdown",
   "id": "d5a65ccf-5d0d-4670-b38a-e6a03f0c128a",
   "metadata": {},
   "source": [
    "根据上面最小样本量的计算，我们知道此次AB测试至少需要9440个用户参与测试，假如该落地页以往每天的平均浏览量为1000，则实验周期至少需要的天数为："
   ]
  },
  {
   "cell_type": "markdown",
   "id": "1ab113f8-2b67-4a02-bc3c-38fc5a2c46c6",
   "metadata": {},
   "source": [
    "$$试验周期 = 9440/1000 = 9.4 ≈10（天）$$"
   ]
  },
  {
   "cell_type": "markdown",
   "id": "2379c9e9-4a05-4466-b450-a5e63c9d9d62",
   "metadata": {},
   "source": [
    "### **Step4：上线AB测试并收集数据**"
   ]
  },
  {
   "cell_type": "markdown",
   "id": "d1319948-714a-4c5e-b556-de0ac66dfd12",
   "metadata": {},
   "source": [
    "目前市面上大家熟知的大公司基本上都在做AB测试，比如：百度、阿里、腾讯、字节跳动、京东、滴滴、携程、美团等：\n",
    "- 百度：百度统计可视化A/B测试：https://baijiahao.baidu.com/s?id=1735048932168957887&wfr=spider&for=pc\n",
    "- 字节跳动：巨量引擎「AB实验工具」:https://zhuanlan.zhihu.com/p/508366232\n",
    "- 阿里：淘宝推出的 A/B 测试平台，主要针对淘宝商家进行 A/B 测试\n",
    "- 腾讯：腾讯云AB实验平台：https://abtest.qq.com/"
   ]
  },
  {
   "cell_type": "markdown",
   "id": "4d382b39-ccae-4bba-a406-f3dcf2b91b01",
   "metadata": {},
   "source": [
    "大公司做AB测试的主要特点就是。一般都是自研系统。而对于规模不是那么大的企业，也有做AB测试的需求，比如互金、运动。、在线教育、SaaS的都有做A/B测试，但是这部分企业一般是使用第三方的A/B测试工具。目前市面上的第三方AB测试工具主要有：\n",
    "- 神测数据：https://www.sensorsdata.cn/features/ABTesting.html\n",
    "- ABtester：提供web网站A/B测试http://www.abtester.cn/\n",
    "- 热云数据：支持App、web、H5的A/B测试https://www.appadhoc.com/"
   ]
  },
  {
   "cell_type": "markdown",
   "id": "45b5cc3f-bb25-4d74-9ece-c36fad286920",
   "metadata": {},
   "source": [
    "### Step5：数据分析及假设检验"
   ]
  },
  {
   "cell_type": "markdown",
   "id": "3ecadddd-8b9e-4005-941b-7877c5c028ac",
   "metadata": {},
   "source": [
    "这里，我们使用的是Kaggle上的A/B测试数据集来模拟练习。（数据集已经给大家下载至网盘，VX加小可爱:littlecat_1205回复【DA】即可领取）"
   ]
  },
  {
   "cell_type": "markdown",
   "id": "3be24f25-f0cc-495f-8a74-4087d01cdecc",
   "metadata": {},
   "source": [
    "- **导入数据集**"
   ]
  },
  {
   "cell_type": "code",
   "execution_count": 9,
   "id": "8e590802-0538-4845-b2c9-04be2b146e53",
   "metadata": {},
   "outputs": [],
   "source": [
    "# 导入数据集\n",
    "df = pd.read_csv(\"ab_data.csv\")"
   ]
  },
  {
   "cell_type": "code",
   "execution_count": 10,
   "id": "bbc7d61f-3b50-442d-af50-660aa93b1a90",
   "metadata": {},
   "outputs": [
    {
     "data": {
      "text/html": [
       "<div>\n",
       "<style scoped>\n",
       "    .dataframe tbody tr th:only-of-type {\n",
       "        vertical-align: middle;\n",
       "    }\n",
       "\n",
       "    .dataframe tbody tr th {\n",
       "        vertical-align: top;\n",
       "    }\n",
       "\n",
       "    .dataframe thead th {\n",
       "        text-align: right;\n",
       "    }\n",
       "</style>\n",
       "<table border=\"1\" class=\"dataframe\">\n",
       "  <thead>\n",
       "    <tr style=\"text-align: right;\">\n",
       "      <th></th>\n",
       "      <th>user_id</th>\n",
       "      <th>timestamp</th>\n",
       "      <th>group</th>\n",
       "      <th>landing_page</th>\n",
       "      <th>converted</th>\n",
       "    </tr>\n",
       "  </thead>\n",
       "  <tbody>\n",
       "    <tr>\n",
       "      <th>0</th>\n",
       "      <td>851104</td>\n",
       "      <td>2017-01-21 22:11:48.556739</td>\n",
       "      <td>control</td>\n",
       "      <td>old_page</td>\n",
       "      <td>0</td>\n",
       "    </tr>\n",
       "    <tr>\n",
       "      <th>1</th>\n",
       "      <td>804228</td>\n",
       "      <td>2017-01-12 08:01:45.159739</td>\n",
       "      <td>control</td>\n",
       "      <td>old_page</td>\n",
       "      <td>0</td>\n",
       "    </tr>\n",
       "    <tr>\n",
       "      <th>2</th>\n",
       "      <td>661590</td>\n",
       "      <td>2017-01-11 16:55:06.154213</td>\n",
       "      <td>treatment</td>\n",
       "      <td>new_page</td>\n",
       "      <td>0</td>\n",
       "    </tr>\n",
       "    <tr>\n",
       "      <th>3</th>\n",
       "      <td>853541</td>\n",
       "      <td>2017-01-08 18:28:03.143765</td>\n",
       "      <td>treatment</td>\n",
       "      <td>new_page</td>\n",
       "      <td>0</td>\n",
       "    </tr>\n",
       "    <tr>\n",
       "      <th>4</th>\n",
       "      <td>864975</td>\n",
       "      <td>2017-01-21 01:52:26.210827</td>\n",
       "      <td>control</td>\n",
       "      <td>old_page</td>\n",
       "      <td>1</td>\n",
       "    </tr>\n",
       "  </tbody>\n",
       "</table>\n",
       "</div>"
      ],
      "text/plain": [
       "   user_id                   timestamp      group landing_page  converted\n",
       "0   851104  2017-01-21 22:11:48.556739    control     old_page          0\n",
       "1   804228  2017-01-12 08:01:45.159739    control     old_page          0\n",
       "2   661590  2017-01-11 16:55:06.154213  treatment     new_page          0\n",
       "3   853541  2017-01-08 18:28:03.143765  treatment     new_page          0\n",
       "4   864975  2017-01-21 01:52:26.210827    control     old_page          1"
      ]
     },
     "execution_count": 10,
     "metadata": {},
     "output_type": "execute_result"
    }
   ],
   "source": [
    "df.head()"
   ]
  },
  {
   "cell_type": "code",
   "execution_count": 11,
   "id": "4d42fd44-59cf-48ec-b220-67119dad4f91",
   "metadata": {},
   "outputs": [
    {
     "name": "stdout",
     "output_type": "stream",
     "text": [
      "<class 'pandas.core.frame.DataFrame'>\n",
      "RangeIndex: 294478 entries, 0 to 294477\n",
      "Data columns (total 5 columns):\n",
      " #   Column        Non-Null Count   Dtype \n",
      "---  ------        --------------   ----- \n",
      " 0   user_id       294478 non-null  int64 \n",
      " 1   timestamp     294478 non-null  object\n",
      " 2   group         294478 non-null  object\n",
      " 3   landing_page  294478 non-null  object\n",
      " 4   converted     294478 non-null  int64 \n",
      "dtypes: int64(2), object(3)\n",
      "memory usage: 11.2+ MB\n"
     ]
    }
   ],
   "source": [
    "df.info()"
   ]
  },
  {
   "cell_type": "markdown",
   "id": "258197dd-0a2e-4b31-b0c8-a42adaf1f83d",
   "metadata": {},
   "source": [
    "字段名称含义：\n",
    "- `user_id`：用户ID\n",
    "- `timestamp`：用户访问页面的时间\n",
    "- `group`：用户分组情况（新落地页为treatment组，旧版落地页为control组）\n",
    "- `landing_page`：每位用户看到的落地页（分为新旧两版落地页）\n",
    "- `converted`：是否成功转化（1代表成功转化，0代表未转化）"
   ]
  },
  {
   "cell_type": "code",
   "execution_count": 12,
   "id": "7b4f99a9-0e08-4745-b038-aacabe611e83",
   "metadata": {},
   "outputs": [
    {
     "data": {
      "text/plain": [
       "group\n",
       "treatment    147276\n",
       "control      147202\n",
       "Name: count, dtype: int64"
      ]
     },
     "execution_count": 12,
     "metadata": {},
     "output_type": "execute_result"
    }
   ],
   "source": [
    "df[\"group\"].value_counts()"
   ]
  },
  {
   "cell_type": "code",
   "execution_count": 13,
   "id": "0bb0e6c6-6bc6-415a-ad6b-078f6dabaf98",
   "metadata": {},
   "outputs": [
    {
     "data": {
      "text/plain": [
       "landing_page\n",
       "old_page    147239\n",
       "new_page    147239\n",
       "Name: count, dtype: int64"
      ]
     },
     "execution_count": 13,
     "metadata": {},
     "output_type": "execute_result"
    }
   ],
   "source": [
    "df[\"landing_page\"].value_counts()"
   ]
  },
  {
   "cell_type": "markdown",
   "id": "ae499566-5131-43f4-af2e-109791bcc572",
   "metadata": {},
   "source": [
    "- **数据清洗**"
   ]
  },
  {
   "cell_type": "code",
   "execution_count": 14,
   "id": "45e4647e-cd01-42f2-9c35-326f79486e44",
   "metadata": {},
   "outputs": [
    {
     "data": {
      "text/html": [
       "<div>\n",
       "<style scoped>\n",
       "    .dataframe tbody tr th:only-of-type {\n",
       "        vertical-align: middle;\n",
       "    }\n",
       "\n",
       "    .dataframe tbody tr th {\n",
       "        vertical-align: top;\n",
       "    }\n",
       "\n",
       "    .dataframe thead th {\n",
       "        text-align: right;\n",
       "    }\n",
       "</style>\n",
       "<table border=\"1\" class=\"dataframe\">\n",
       "  <thead>\n",
       "    <tr style=\"text-align: right;\">\n",
       "      <th></th>\n",
       "      <th>user_id</th>\n",
       "      <th>timestamp</th>\n",
       "      <th>group</th>\n",
       "      <th>landing_page</th>\n",
       "      <th>converted</th>\n",
       "    </tr>\n",
       "  </thead>\n",
       "  <tbody>\n",
       "    <tr>\n",
       "      <th>0</th>\n",
       "      <td>851104</td>\n",
       "      <td>2017-01-21 22:11:48.556739</td>\n",
       "      <td>control</td>\n",
       "      <td>old_page</td>\n",
       "      <td>0</td>\n",
       "    </tr>\n",
       "    <tr>\n",
       "      <th>1</th>\n",
       "      <td>804228</td>\n",
       "      <td>2017-01-12 08:01:45.159739</td>\n",
       "      <td>control</td>\n",
       "      <td>old_page</td>\n",
       "      <td>0</td>\n",
       "    </tr>\n",
       "    <tr>\n",
       "      <th>2</th>\n",
       "      <td>661590</td>\n",
       "      <td>2017-01-11 16:55:06.154213</td>\n",
       "      <td>treatment</td>\n",
       "      <td>new_page</td>\n",
       "      <td>0</td>\n",
       "    </tr>\n",
       "    <tr>\n",
       "      <th>3</th>\n",
       "      <td>853541</td>\n",
       "      <td>2017-01-08 18:28:03.143765</td>\n",
       "      <td>treatment</td>\n",
       "      <td>new_page</td>\n",
       "      <td>0</td>\n",
       "    </tr>\n",
       "    <tr>\n",
       "      <th>4</th>\n",
       "      <td>864975</td>\n",
       "      <td>2017-01-21 01:52:26.210827</td>\n",
       "      <td>control</td>\n",
       "      <td>old_page</td>\n",
       "      <td>1</td>\n",
       "    </tr>\n",
       "  </tbody>\n",
       "</table>\n",
       "</div>"
      ],
      "text/plain": [
       "   user_id                   timestamp      group landing_page  converted\n",
       "0   851104  2017-01-21 22:11:48.556739    control     old_page          0\n",
       "1   804228  2017-01-12 08:01:45.159739    control     old_page          0\n",
       "2   661590  2017-01-11 16:55:06.154213  treatment     new_page          0\n",
       "3   853541  2017-01-08 18:28:03.143765  treatment     new_page          0\n",
       "4   864975  2017-01-21 01:52:26.210827    control     old_page          1"
      ]
     },
     "execution_count": 14,
     "metadata": {},
     "output_type": "execute_result"
    }
   ],
   "source": [
    "df.head()"
   ]
  },
  {
   "cell_type": "code",
   "execution_count": 21,
   "id": "22ea801b-83c1-4eb2-9929-4063f82ff1fb",
   "metadata": {},
   "outputs": [
    {
     "data": {
      "text/plain": [
       "user_id         0\n",
       "timestamp       0\n",
       "group           0\n",
       "landing_page    0\n",
       "converted       0\n",
       "dtype: int64"
      ]
     },
     "execution_count": 21,
     "metadata": {},
     "output_type": "execute_result"
    }
   ],
   "source": [
    "# 检查缺失值并处理\n",
    "df.isnull().sum()"
   ]
  },
  {
   "cell_type": "code",
   "execution_count": 15,
   "id": "571447af-9243-42b9-9e9e-5004d21432b8",
   "metadata": {},
   "outputs": [
    {
     "data": {
      "text/plain": [
       "0"
      ]
     },
     "execution_count": 15,
     "metadata": {},
     "output_type": "execute_result"
    }
   ],
   "source": [
    "# 检查重复值并处理\n",
    "df.duplicated().sum() #对于整体数据集没有重复值"
   ]
  },
  {
   "cell_type": "code",
   "execution_count": 16,
   "id": "c3d75e7e-cb20-4e21-bd4d-9f0d41d9a187",
   "metadata": {},
   "outputs": [
    {
     "data": {
      "text/plain": [
       "3894"
      ]
     },
     "execution_count": 16,
     "metadata": {},
     "output_type": "execute_result"
    }
   ],
   "source": [
    "# 检查用户是否有重复值\n",
    "df[\"user_id\"].duplicated().sum()"
   ]
  },
  {
   "cell_type": "code",
   "execution_count": 17,
   "id": "46ed2e47-12f8-4cd3-83e6-3b4d998b1b14",
   "metadata": {},
   "outputs": [
    {
     "data": {
      "text/plain": [
       "2656      698120\n",
       "2893      773192\n",
       "7500      899953\n",
       "8036      790934\n",
       "10218     633793\n",
       "           ...  \n",
       "294308    905197\n",
       "294309    787083\n",
       "294328    641570\n",
       "294331    689637\n",
       "294355    744456\n",
       "Name: user_id, Length: 3894, dtype: int64"
      ]
     },
     "execution_count": 17,
     "metadata": {},
     "output_type": "execute_result"
    }
   ],
   "source": [
    "df[df[\"user_id\"].duplicated()][\"user_id\"]"
   ]
  },
  {
   "cell_type": "code",
   "execution_count": 18,
   "id": "448ef37b-3022-4421-a287-5ad7bf063cdd",
   "metadata": {},
   "outputs": [
    {
     "data": {
      "text/html": [
       "<div>\n",
       "<style scoped>\n",
       "    .dataframe tbody tr th:only-of-type {\n",
       "        vertical-align: middle;\n",
       "    }\n",
       "\n",
       "    .dataframe tbody tr th {\n",
       "        vertical-align: top;\n",
       "    }\n",
       "\n",
       "    .dataframe thead th {\n",
       "        text-align: right;\n",
       "    }\n",
       "</style>\n",
       "<table border=\"1\" class=\"dataframe\">\n",
       "  <thead>\n",
       "    <tr style=\"text-align: right;\">\n",
       "      <th></th>\n",
       "      <th>user_id</th>\n",
       "      <th>timestamp</th>\n",
       "      <th>group</th>\n",
       "      <th>landing_page</th>\n",
       "      <th>converted</th>\n",
       "    </tr>\n",
       "  </thead>\n",
       "  <tbody>\n",
       "    <tr>\n",
       "      <th>3489</th>\n",
       "      <td>899953</td>\n",
       "      <td>2017-01-05 05:36:02.120641</td>\n",
       "      <td>treatment</td>\n",
       "      <td>new_page</td>\n",
       "      <td>0</td>\n",
       "    </tr>\n",
       "    <tr>\n",
       "      <th>7500</th>\n",
       "      <td>899953</td>\n",
       "      <td>2017-01-07 03:06:54.068237</td>\n",
       "      <td>control</td>\n",
       "      <td>new_page</td>\n",
       "      <td>0</td>\n",
       "    </tr>\n",
       "  </tbody>\n",
       "</table>\n",
       "</div>"
      ],
      "text/plain": [
       "      user_id                   timestamp      group landing_page  converted\n",
       "3489   899953  2017-01-05 05:36:02.120641  treatment     new_page          0\n",
       "7500   899953  2017-01-07 03:06:54.068237    control     new_page          0"
      ]
     },
     "execution_count": 18,
     "metadata": {},
     "output_type": "execute_result"
    }
   ],
   "source": [
    "# 查看其中一位重复用户\n",
    "df[df[\"user_id\"]==899953]"
   ]
  },
  {
   "cell_type": "code",
   "execution_count": 19,
   "id": "db23142c-42b4-4539-9f72-63689c41caf9",
   "metadata": {},
   "outputs": [],
   "source": [
    "# 储存所有的重复用户ID\n",
    "del_id = df[df[\"user_id\"].duplicated()][\"user_id\"].values"
   ]
  },
  {
   "cell_type": "code",
   "execution_count": 20,
   "id": "13e45299-96e1-4190-acf4-03f02283532a",
   "metadata": {},
   "outputs": [
    {
     "data": {
      "text/plain": [
       "3894"
      ]
     },
     "execution_count": 20,
     "metadata": {},
     "output_type": "execute_result"
    }
   ],
   "source": [
    "len(del_id)"
   ]
  },
  {
   "cell_type": "code",
   "execution_count": 21,
   "id": "4c08cf06-7095-4b31-878c-c2a4c4dbd141",
   "metadata": {},
   "outputs": [
    {
     "data": {
      "text/plain": [
       "array([698120, 773192, 899953, ..., 641570, 689637, 744456])"
      ]
     },
     "execution_count": 21,
     "metadata": {},
     "output_type": "execute_result"
    }
   ],
   "source": [
    "del_id"
   ]
  },
  {
   "cell_type": "code",
   "execution_count": 22,
   "id": "70ce0f05-b8a8-45bb-8d87-35bcf0e6c60a",
   "metadata": {},
   "outputs": [
    {
     "data": {
      "text/plain": [
       "7788"
      ]
     },
     "execution_count": 22,
     "metadata": {},
     "output_type": "execute_result"
    }
   ],
   "source": [
    "df[\"user_id\"].isin(del_id).sum()"
   ]
  },
  {
   "cell_type": "code",
   "execution_count": 23,
   "id": "5bb14947-d304-4602-a0ca-a00f8fb01c6f",
   "metadata": {},
   "outputs": [
    {
     "data": {
      "text/plain": [
       "0         True\n",
       "1         True\n",
       "2         True\n",
       "3         True\n",
       "4         True\n",
       "          ... \n",
       "294473    True\n",
       "294474    True\n",
       "294475    True\n",
       "294476    True\n",
       "294477    True\n",
       "Name: user_id, Length: 294478, dtype: bool"
      ]
     },
     "execution_count": 23,
     "metadata": {},
     "output_type": "execute_result"
    }
   ],
   "source": [
    "~df[\"user_id\"].isin(del_id)"
   ]
  },
  {
   "cell_type": "code",
   "execution_count": 28,
   "id": "1595588f-327b-42d8-881f-764385c85d27",
   "metadata": {},
   "outputs": [
    {
     "data": {
      "text/html": [
       "<div>\n",
       "<style scoped>\n",
       "    .dataframe tbody tr th:only-of-type {\n",
       "        vertical-align: middle;\n",
       "    }\n",
       "\n",
       "    .dataframe tbody tr th {\n",
       "        vertical-align: top;\n",
       "    }\n",
       "\n",
       "    .dataframe thead th {\n",
       "        text-align: right;\n",
       "    }\n",
       "</style>\n",
       "<table border=\"1\" class=\"dataframe\">\n",
       "  <thead>\n",
       "    <tr style=\"text-align: right;\">\n",
       "      <th></th>\n",
       "      <th>user_id</th>\n",
       "      <th>timestamp</th>\n",
       "      <th>group</th>\n",
       "      <th>landing_page</th>\n",
       "      <th>converted</th>\n",
       "    </tr>\n",
       "  </thead>\n",
       "  <tbody>\n",
       "    <tr>\n",
       "      <th>0</th>\n",
       "      <td>851104</td>\n",
       "      <td>2017-01-21 22:11:48.556739</td>\n",
       "      <td>control</td>\n",
       "      <td>old_page</td>\n",
       "      <td>0</td>\n",
       "    </tr>\n",
       "    <tr>\n",
       "      <th>1</th>\n",
       "      <td>804228</td>\n",
       "      <td>2017-01-12 08:01:45.159739</td>\n",
       "      <td>control</td>\n",
       "      <td>old_page</td>\n",
       "      <td>0</td>\n",
       "    </tr>\n",
       "    <tr>\n",
       "      <th>2</th>\n",
       "      <td>661590</td>\n",
       "      <td>2017-01-11 16:55:06.154213</td>\n",
       "      <td>treatment</td>\n",
       "      <td>new_page</td>\n",
       "      <td>0</td>\n",
       "    </tr>\n",
       "    <tr>\n",
       "      <th>3</th>\n",
       "      <td>853541</td>\n",
       "      <td>2017-01-08 18:28:03.143765</td>\n",
       "      <td>treatment</td>\n",
       "      <td>new_page</td>\n",
       "      <td>0</td>\n",
       "    </tr>\n",
       "    <tr>\n",
       "      <th>4</th>\n",
       "      <td>864975</td>\n",
       "      <td>2017-01-21 01:52:26.210827</td>\n",
       "      <td>control</td>\n",
       "      <td>old_page</td>\n",
       "      <td>1</td>\n",
       "    </tr>\n",
       "    <tr>\n",
       "      <th>...</th>\n",
       "      <td>...</td>\n",
       "      <td>...</td>\n",
       "      <td>...</td>\n",
       "      <td>...</td>\n",
       "      <td>...</td>\n",
       "    </tr>\n",
       "    <tr>\n",
       "      <th>294473</th>\n",
       "      <td>751197</td>\n",
       "      <td>2017-01-03 22:28:38.630509</td>\n",
       "      <td>control</td>\n",
       "      <td>old_page</td>\n",
       "      <td>0</td>\n",
       "    </tr>\n",
       "    <tr>\n",
       "      <th>294474</th>\n",
       "      <td>945152</td>\n",
       "      <td>2017-01-12 00:51:57.078372</td>\n",
       "      <td>control</td>\n",
       "      <td>old_page</td>\n",
       "      <td>0</td>\n",
       "    </tr>\n",
       "    <tr>\n",
       "      <th>294475</th>\n",
       "      <td>734608</td>\n",
       "      <td>2017-01-22 11:45:03.439544</td>\n",
       "      <td>control</td>\n",
       "      <td>old_page</td>\n",
       "      <td>0</td>\n",
       "    </tr>\n",
       "    <tr>\n",
       "      <th>294476</th>\n",
       "      <td>697314</td>\n",
       "      <td>2017-01-15 01:20:28.957438</td>\n",
       "      <td>control</td>\n",
       "      <td>old_page</td>\n",
       "      <td>0</td>\n",
       "    </tr>\n",
       "    <tr>\n",
       "      <th>294477</th>\n",
       "      <td>715931</td>\n",
       "      <td>2017-01-16 12:40:24.467417</td>\n",
       "      <td>treatment</td>\n",
       "      <td>new_page</td>\n",
       "      <td>0</td>\n",
       "    </tr>\n",
       "  </tbody>\n",
       "</table>\n",
       "<p>286690 rows × 5 columns</p>\n",
       "</div>"
      ],
      "text/plain": [
       "        user_id                   timestamp      group landing_page  converted\n",
       "0        851104  2017-01-21 22:11:48.556739    control     old_page          0\n",
       "1        804228  2017-01-12 08:01:45.159739    control     old_page          0\n",
       "2        661590  2017-01-11 16:55:06.154213  treatment     new_page          0\n",
       "3        853541  2017-01-08 18:28:03.143765  treatment     new_page          0\n",
       "4        864975  2017-01-21 01:52:26.210827    control     old_page          1\n",
       "...         ...                         ...        ...          ...        ...\n",
       "294473   751197  2017-01-03 22:28:38.630509    control     old_page          0\n",
       "294474   945152  2017-01-12 00:51:57.078372    control     old_page          0\n",
       "294475   734608  2017-01-22 11:45:03.439544    control     old_page          0\n",
       "294476   697314  2017-01-15 01:20:28.957438    control     old_page          0\n",
       "294477   715931  2017-01-16 12:40:24.467417  treatment     new_page          0\n",
       "\n",
       "[286690 rows x 5 columns]"
      ]
     },
     "execution_count": 28,
     "metadata": {},
     "output_type": "execute_result"
    }
   ],
   "source": [
    "df_new = df[~df[\"user_id\"].isin(del_id)]\n",
    "df_new"
   ]
  },
  {
   "cell_type": "code",
   "execution_count": 31,
   "id": "777d5850-b6dd-4b55-8362-6b2e968a08b1",
   "metadata": {},
   "outputs": [
    {
     "data": {
      "text/plain": [
       "0        2017-01-21 22:11:48.556739\n",
       "1        2017-01-12 08:01:45.159739\n",
       "2        2017-01-11 16:55:06.154213\n",
       "3        2017-01-08 18:28:03.143765\n",
       "4        2017-01-21 01:52:26.210827\n",
       "                    ...            \n",
       "294473   2017-01-03 22:28:38.630509\n",
       "294474   2017-01-12 00:51:57.078372\n",
       "294475   2017-01-22 11:45:03.439544\n",
       "294476   2017-01-15 01:20:28.957438\n",
       "294477   2017-01-16 12:40:24.467417\n",
       "Name: timestamp, Length: 286690, dtype: datetime64[ns]"
      ]
     },
     "execution_count": 31,
     "metadata": {},
     "output_type": "execute_result"
    }
   ],
   "source": [
    "pd.to_datetime(df_new['timestamp'])"
   ]
  },
  {
   "cell_type": "code",
   "execution_count": 32,
   "id": "4dcdbd04-ab26-42ef-92bb-d18f56a98c59",
   "metadata": {},
   "outputs": [],
   "source": [
    "# 处理时间，并检查时间天数\n",
    "date_days = pd.to_datetime(df_new['timestamp']).dt.strftime('%Y-%m-%d')"
   ]
  },
  {
   "cell_type": "code",
   "execution_count": 33,
   "id": "60f4c20d-53d6-48e3-bd34-e95a95912665",
   "metadata": {},
   "outputs": [
    {
     "data": {
      "text/plain": [
       "0         2017-01-21\n",
       "1         2017-01-12\n",
       "2         2017-01-11\n",
       "3         2017-01-08\n",
       "4         2017-01-21\n",
       "             ...    \n",
       "294473    2017-01-03\n",
       "294474    2017-01-12\n",
       "294475    2017-01-22\n",
       "294476    2017-01-15\n",
       "294477    2017-01-16\n",
       "Name: timestamp, Length: 286690, dtype: object"
      ]
     },
     "execution_count": 33,
     "metadata": {},
     "output_type": "execute_result"
    }
   ],
   "source": [
    "date_days"
   ]
  },
  {
   "cell_type": "code",
   "execution_count": 34,
   "id": "66f933ac-3c67-4406-974c-95f00a36367d",
   "metadata": {},
   "outputs": [
    {
     "data": {
      "text/plain": [
       "23"
      ]
     },
     "execution_count": 34,
     "metadata": {},
     "output_type": "execute_result"
    }
   ],
   "source": [
    "len(date_days.unique()) #有23天"
   ]
  },
  {
   "cell_type": "code",
   "execution_count": 35,
   "id": "eb2a06cc-0c2f-4a75-9c00-04e11e2f3113",
   "metadata": {},
   "outputs": [
    {
     "data": {
      "text/plain": [
       "0         [2017-01-21, 22:11:48.556739]\n",
       "1         [2017-01-12, 08:01:45.159739]\n",
       "2         [2017-01-11, 16:55:06.154213]\n",
       "3         [2017-01-08, 18:28:03.143765]\n",
       "4         [2017-01-21, 01:52:26.210827]\n",
       "                      ...              \n",
       "294473    [2017-01-03, 22:28:38.630509]\n",
       "294474    [2017-01-12, 00:51:57.078372]\n",
       "294475    [2017-01-22, 11:45:03.439544]\n",
       "294476    [2017-01-15, 01:20:28.957438]\n",
       "294477    [2017-01-16, 12:40:24.467417]\n",
       "Name: timestamp, Length: 286690, dtype: object"
      ]
     },
     "execution_count": 35,
     "metadata": {},
     "output_type": "execute_result"
    }
   ],
   "source": [
    "df_new['timestamp'].str.split(\" \")"
   ]
  },
  {
   "cell_type": "code",
   "execution_count": 36,
   "id": "e095c1c5-659a-456f-a500-cbd4e93d5d17",
   "metadata": {
    "collapsed": true,
    "jupyter": {
     "outputs_hidden": true
    },
    "tags": []
   },
   "outputs": [
    {
     "data": {
      "text/plain": [
       "['2017-01-21',\n",
       " '2017-01-12',\n",
       " '2017-01-11',\n",
       " '2017-01-08',\n",
       " '2017-01-21',\n",
       " '2017-01-10',\n",
       " '2017-01-19',\n",
       " '2017-01-17',\n",
       " '2017-01-04',\n",
       " '2017-01-15',\n",
       " '2017-01-18',\n",
       " '2017-01-21',\n",
       " '2017-01-09',\n",
       " '2017-01-22',\n",
       " '2017-01-22',\n",
       " '2017-01-22',\n",
       " '2017-01-17',\n",
       " '2017-01-08',\n",
       " '2017-01-24',\n",
       " '2017-01-17',\n",
       " '2017-01-12',\n",
       " '2017-01-09',\n",
       " '2017-01-23',\n",
       " '2017-01-20',\n",
       " '2017-01-23',\n",
       " '2017-01-05',\n",
       " '2017-01-12',\n",
       " '2017-01-24',\n",
       " '2017-01-06',\n",
       " '2017-01-13',\n",
       " '2017-01-05',\n",
       " '2017-01-05',\n",
       " '2017-01-07',\n",
       " '2017-01-11',\n",
       " '2017-01-23',\n",
       " '2017-01-11',\n",
       " '2017-01-19',\n",
       " '2017-01-03',\n",
       " '2017-01-02',\n",
       " '2017-01-16',\n",
       " '2017-01-03',\n",
       " '2017-01-22',\n",
       " '2017-01-08',\n",
       " '2017-01-05',\n",
       " '2017-01-18',\n",
       " '2017-01-22',\n",
       " '2017-01-20',\n",
       " '2017-01-23',\n",
       " '2017-01-12',\n",
       " '2017-01-05',\n",
       " '2017-01-18',\n",
       " '2017-01-22',\n",
       " '2017-01-17',\n",
       " '2017-01-22',\n",
       " '2017-01-20',\n",
       " '2017-01-09',\n",
       " '2017-01-03',\n",
       " '2017-01-10',\n",
       " '2017-01-11',\n",
       " '2017-01-19',\n",
       " '2017-01-23',\n",
       " '2017-01-11',\n",
       " '2017-01-19',\n",
       " '2017-01-24',\n",
       " '2017-01-07',\n",
       " '2017-01-08',\n",
       " '2017-01-24',\n",
       " '2017-01-05',\n",
       " '2017-01-10',\n",
       " '2017-01-11',\n",
       " '2017-01-12',\n",
       " '2017-01-03',\n",
       " '2017-01-15',\n",
       " '2017-01-19',\n",
       " '2017-01-13',\n",
       " '2017-01-10',\n",
       " '2017-01-07',\n",
       " '2017-01-22',\n",
       " '2017-01-07',\n",
       " '2017-01-14',\n",
       " '2017-01-22',\n",
       " '2017-01-17',\n",
       " '2017-01-18',\n",
       " '2017-01-03',\n",
       " '2017-01-14',\n",
       " '2017-01-04',\n",
       " '2017-01-20',\n",
       " '2017-01-07',\n",
       " '2017-01-18',\n",
       " '2017-01-19',\n",
       " '2017-01-17',\n",
       " '2017-01-07',\n",
       " '2017-01-16',\n",
       " '2017-01-24',\n",
       " '2017-01-17',\n",
       " '2017-01-04',\n",
       " '2017-01-09',\n",
       " '2017-01-22',\n",
       " '2017-01-10',\n",
       " '2017-01-07',\n",
       " '2017-01-21',\n",
       " '2017-01-16',\n",
       " '2017-01-17',\n",
       " '2017-01-06',\n",
       " '2017-01-23',\n",
       " '2017-01-13',\n",
       " '2017-01-23',\n",
       " '2017-01-09',\n",
       " '2017-01-20',\n",
       " '2017-01-10',\n",
       " '2017-01-18',\n",
       " '2017-01-12',\n",
       " '2017-01-20',\n",
       " '2017-01-05',\n",
       " '2017-01-17',\n",
       " '2017-01-10',\n",
       " '2017-01-20',\n",
       " '2017-01-02',\n",
       " '2017-01-11',\n",
       " '2017-01-06',\n",
       " '2017-01-09',\n",
       " '2017-01-17',\n",
       " '2017-01-18',\n",
       " '2017-01-09',\n",
       " '2017-01-11',\n",
       " '2017-01-06',\n",
       " '2017-01-23',\n",
       " '2017-01-11',\n",
       " '2017-01-13',\n",
       " '2017-01-07',\n",
       " '2017-01-19',\n",
       " '2017-01-15',\n",
       " '2017-01-15',\n",
       " '2017-01-15',\n",
       " '2017-01-23',\n",
       " '2017-01-09',\n",
       " '2017-01-20',\n",
       " '2017-01-03',\n",
       " '2017-01-06',\n",
       " '2017-01-18',\n",
       " '2017-01-23',\n",
       " '2017-01-11',\n",
       " '2017-01-13',\n",
       " '2017-01-05',\n",
       " '2017-01-14',\n",
       " '2017-01-09',\n",
       " '2017-01-11',\n",
       " '2017-01-18',\n",
       " '2017-01-18',\n",
       " '2017-01-10',\n",
       " '2017-01-23',\n",
       " '2017-01-09',\n",
       " '2017-01-07',\n",
       " '2017-01-19',\n",
       " '2017-01-22',\n",
       " '2017-01-16',\n",
       " '2017-01-08',\n",
       " '2017-01-19',\n",
       " '2017-01-08',\n",
       " '2017-01-12',\n",
       " '2017-01-19',\n",
       " '2017-01-19',\n",
       " '2017-01-05',\n",
       " '2017-01-05',\n",
       " '2017-01-08',\n",
       " '2017-01-16',\n",
       " '2017-01-18',\n",
       " '2017-01-14',\n",
       " '2017-01-04',\n",
       " '2017-01-07',\n",
       " '2017-01-11',\n",
       " '2017-01-21',\n",
       " '2017-01-14',\n",
       " '2017-01-02',\n",
       " '2017-01-09',\n",
       " '2017-01-07',\n",
       " '2017-01-11',\n",
       " '2017-01-07',\n",
       " '2017-01-23',\n",
       " '2017-01-13',\n",
       " '2017-01-08',\n",
       " '2017-01-08',\n",
       " '2017-01-05',\n",
       " '2017-01-13',\n",
       " '2017-01-15',\n",
       " '2017-01-20',\n",
       " '2017-01-13',\n",
       " '2017-01-15',\n",
       " '2017-01-06',\n",
       " '2017-01-06',\n",
       " '2017-01-13',\n",
       " '2017-01-19',\n",
       " '2017-01-15',\n",
       " '2017-01-10',\n",
       " '2017-01-11',\n",
       " '2017-01-07',\n",
       " '2017-01-22',\n",
       " '2017-01-09',\n",
       " '2017-01-22',\n",
       " '2017-01-09',\n",
       " '2017-01-23',\n",
       " '2017-01-11',\n",
       " '2017-01-17',\n",
       " '2017-01-04',\n",
       " '2017-01-17',\n",
       " '2017-01-08',\n",
       " '2017-01-05',\n",
       " '2017-01-14',\n",
       " '2017-01-19',\n",
       " '2017-01-02',\n",
       " '2017-01-21',\n",
       " '2017-01-08',\n",
       " '2017-01-06',\n",
       " '2017-01-16',\n",
       " '2017-01-17',\n",
       " '2017-01-13',\n",
       " '2017-01-13',\n",
       " '2017-01-10',\n",
       " '2017-01-14',\n",
       " '2017-01-16',\n",
       " '2017-01-23',\n",
       " '2017-01-17',\n",
       " '2017-01-19',\n",
       " '2017-01-06',\n",
       " '2017-01-09',\n",
       " '2017-01-19',\n",
       " '2017-01-19',\n",
       " '2017-01-23',\n",
       " '2017-01-14',\n",
       " '2017-01-15',\n",
       " '2017-01-20',\n",
       " '2017-01-12',\n",
       " '2017-01-20',\n",
       " '2017-01-07',\n",
       " '2017-01-18',\n",
       " '2017-01-10',\n",
       " '2017-01-12',\n",
       " '2017-01-15',\n",
       " '2017-01-07',\n",
       " '2017-01-04',\n",
       " '2017-01-19',\n",
       " '2017-01-21',\n",
       " '2017-01-15',\n",
       " '2017-01-03',\n",
       " '2017-01-13',\n",
       " '2017-01-20',\n",
       " '2017-01-22',\n",
       " '2017-01-18',\n",
       " '2017-01-08',\n",
       " '2017-01-16',\n",
       " '2017-01-16',\n",
       " '2017-01-12',\n",
       " '2017-01-08',\n",
       " '2017-01-14',\n",
       " '2017-01-22',\n",
       " '2017-01-14',\n",
       " '2017-01-07',\n",
       " '2017-01-15',\n",
       " '2017-01-06',\n",
       " '2017-01-16',\n",
       " '2017-01-19',\n",
       " '2017-01-23',\n",
       " '2017-01-04',\n",
       " '2017-01-22',\n",
       " '2017-01-11',\n",
       " '2017-01-22',\n",
       " '2017-01-10',\n",
       " '2017-01-15',\n",
       " '2017-01-18',\n",
       " '2017-01-20',\n",
       " '2017-01-13',\n",
       " '2017-01-13',\n",
       " '2017-01-07',\n",
       " '2017-01-13',\n",
       " '2017-01-17',\n",
       " '2017-01-08',\n",
       " '2017-01-18',\n",
       " '2017-01-17',\n",
       " '2017-01-07',\n",
       " '2017-01-23',\n",
       " '2017-01-09',\n",
       " '2017-01-02',\n",
       " '2017-01-22',\n",
       " '2017-01-05',\n",
       " '2017-01-10',\n",
       " '2017-01-24',\n",
       " '2017-01-12',\n",
       " '2017-01-21',\n",
       " '2017-01-08',\n",
       " '2017-01-04',\n",
       " '2017-01-20',\n",
       " '2017-01-03',\n",
       " '2017-01-06',\n",
       " '2017-01-06',\n",
       " '2017-01-06',\n",
       " '2017-01-13',\n",
       " '2017-01-05',\n",
       " '2017-01-19',\n",
       " '2017-01-06',\n",
       " '2017-01-07',\n",
       " '2017-01-12',\n",
       " '2017-01-13',\n",
       " '2017-01-12',\n",
       " '2017-01-08',\n",
       " '2017-01-23',\n",
       " '2017-01-11',\n",
       " '2017-01-09',\n",
       " '2017-01-23',\n",
       " '2017-01-20',\n",
       " '2017-01-21',\n",
       " '2017-01-13',\n",
       " '2017-01-15',\n",
       " '2017-01-22',\n",
       " '2017-01-04',\n",
       " '2017-01-17',\n",
       " '2017-01-12',\n",
       " '2017-01-15',\n",
       " '2017-01-09',\n",
       " '2017-01-23',\n",
       " '2017-01-13',\n",
       " '2017-01-13',\n",
       " '2017-01-03',\n",
       " '2017-01-19',\n",
       " '2017-01-20',\n",
       " '2017-01-13',\n",
       " '2017-01-15',\n",
       " '2017-01-13',\n",
       " '2017-01-22',\n",
       " '2017-01-06',\n",
       " '2017-01-17',\n",
       " '2017-01-07',\n",
       " '2017-01-20',\n",
       " '2017-01-10',\n",
       " '2017-01-15',\n",
       " '2017-01-05',\n",
       " '2017-01-13',\n",
       " '2017-01-05',\n",
       " '2017-01-07',\n",
       " '2017-01-23',\n",
       " '2017-01-11',\n",
       " '2017-01-16',\n",
       " '2017-01-14',\n",
       " '2017-01-10',\n",
       " '2017-01-07',\n",
       " '2017-01-14',\n",
       " '2017-01-11',\n",
       " '2017-01-14',\n",
       " '2017-01-18',\n",
       " '2017-01-14',\n",
       " '2017-01-23',\n",
       " '2017-01-08',\n",
       " '2017-01-19',\n",
       " '2017-01-07',\n",
       " '2017-01-10',\n",
       " '2017-01-09',\n",
       " '2017-01-07',\n",
       " '2017-01-15',\n",
       " '2017-01-15',\n",
       " '2017-01-07',\n",
       " '2017-01-04',\n",
       " '2017-01-09',\n",
       " '2017-01-03',\n",
       " '2017-01-21',\n",
       " '2017-01-19',\n",
       " '2017-01-15',\n",
       " '2017-01-19',\n",
       " '2017-01-14',\n",
       " '2017-01-19',\n",
       " '2017-01-18',\n",
       " '2017-01-24',\n",
       " '2017-01-14',\n",
       " '2017-01-14',\n",
       " '2017-01-10',\n",
       " '2017-01-05',\n",
       " '2017-01-24',\n",
       " '2017-01-19',\n",
       " '2017-01-11',\n",
       " '2017-01-06',\n",
       " '2017-01-02',\n",
       " '2017-01-03',\n",
       " '2017-01-20',\n",
       " '2017-01-09',\n",
       " '2017-01-18',\n",
       " '2017-01-04',\n",
       " '2017-01-23',\n",
       " '2017-01-23',\n",
       " '2017-01-13',\n",
       " '2017-01-10',\n",
       " '2017-01-12',\n",
       " '2017-01-18',\n",
       " '2017-01-07',\n",
       " '2017-01-10',\n",
       " '2017-01-22',\n",
       " '2017-01-17',\n",
       " '2017-01-19',\n",
       " '2017-01-14',\n",
       " '2017-01-15',\n",
       " '2017-01-03',\n",
       " '2017-01-23',\n",
       " '2017-01-11',\n",
       " '2017-01-15',\n",
       " '2017-01-05',\n",
       " '2017-01-13',\n",
       " '2017-01-16',\n",
       " '2017-01-19',\n",
       " '2017-01-20',\n",
       " '2017-01-11',\n",
       " '2017-01-19',\n",
       " '2017-01-23',\n",
       " '2017-01-06',\n",
       " '2017-01-02',\n",
       " '2017-01-23',\n",
       " '2017-01-08',\n",
       " '2017-01-21',\n",
       " '2017-01-20',\n",
       " '2017-01-22',\n",
       " '2017-01-18',\n",
       " '2017-01-03',\n",
       " '2017-01-22',\n",
       " '2017-01-14',\n",
       " '2017-01-14',\n",
       " '2017-01-11',\n",
       " '2017-01-12',\n",
       " '2017-01-19',\n",
       " '2017-01-07',\n",
       " '2017-01-13',\n",
       " '2017-01-09',\n",
       " '2017-01-03',\n",
       " '2017-01-13',\n",
       " '2017-01-17',\n",
       " '2017-01-12',\n",
       " '2017-01-17',\n",
       " '2017-01-18',\n",
       " '2017-01-17',\n",
       " '2017-01-13',\n",
       " '2017-01-07',\n",
       " '2017-01-14',\n",
       " '2017-01-13',\n",
       " '2017-01-19',\n",
       " '2017-01-18',\n",
       " '2017-01-15',\n",
       " '2017-01-09',\n",
       " '2017-01-06',\n",
       " '2017-01-18',\n",
       " '2017-01-11',\n",
       " '2017-01-13',\n",
       " '2017-01-18',\n",
       " '2017-01-10',\n",
       " '2017-01-17',\n",
       " '2017-01-10',\n",
       " '2017-01-24',\n",
       " '2017-01-20',\n",
       " '2017-01-05',\n",
       " '2017-01-19',\n",
       " '2017-01-06',\n",
       " '2017-01-24',\n",
       " '2017-01-18',\n",
       " '2017-01-12',\n",
       " '2017-01-23',\n",
       " '2017-01-20',\n",
       " '2017-01-20',\n",
       " '2017-01-02',\n",
       " '2017-01-11',\n",
       " '2017-01-10',\n",
       " '2017-01-12',\n",
       " '2017-01-15',\n",
       " '2017-01-20',\n",
       " '2017-01-10',\n",
       " '2017-01-23',\n",
       " '2017-01-14',\n",
       " '2017-01-08',\n",
       " '2017-01-14',\n",
       " '2017-01-14',\n",
       " '2017-01-14',\n",
       " '2017-01-17',\n",
       " '2017-01-07',\n",
       " '2017-01-15',\n",
       " '2017-01-17',\n",
       " '2017-01-18',\n",
       " '2017-01-24',\n",
       " '2017-01-10',\n",
       " '2017-01-19',\n",
       " '2017-01-04',\n",
       " '2017-01-09',\n",
       " '2017-01-03',\n",
       " '2017-01-06',\n",
       " '2017-01-20',\n",
       " '2017-01-12',\n",
       " '2017-01-21',\n",
       " '2017-01-16',\n",
       " '2017-01-02',\n",
       " '2017-01-22',\n",
       " '2017-01-12',\n",
       " '2017-01-15',\n",
       " '2017-01-07',\n",
       " '2017-01-17',\n",
       " '2017-01-04',\n",
       " '2017-01-07',\n",
       " '2017-01-02',\n",
       " '2017-01-07',\n",
       " '2017-01-22',\n",
       " '2017-01-19',\n",
       " '2017-01-04',\n",
       " '2017-01-16',\n",
       " '2017-01-02',\n",
       " '2017-01-12',\n",
       " '2017-01-17',\n",
       " '2017-01-23',\n",
       " '2017-01-13',\n",
       " '2017-01-04',\n",
       " '2017-01-16',\n",
       " '2017-01-20',\n",
       " '2017-01-07',\n",
       " '2017-01-14',\n",
       " '2017-01-19',\n",
       " '2017-01-12',\n",
       " '2017-01-24',\n",
       " '2017-01-08',\n",
       " '2017-01-05',\n",
       " '2017-01-11',\n",
       " '2017-01-04',\n",
       " '2017-01-19',\n",
       " '2017-01-14',\n",
       " '2017-01-13',\n",
       " '2017-01-06',\n",
       " '2017-01-11',\n",
       " '2017-01-23',\n",
       " '2017-01-16',\n",
       " '2017-01-13',\n",
       " '2017-01-06',\n",
       " '2017-01-22',\n",
       " '2017-01-17',\n",
       " '2017-01-16',\n",
       " '2017-01-20',\n",
       " '2017-01-03',\n",
       " '2017-01-04',\n",
       " '2017-01-17',\n",
       " '2017-01-16',\n",
       " '2017-01-22',\n",
       " '2017-01-23',\n",
       " '2017-01-11',\n",
       " '2017-01-15',\n",
       " '2017-01-11',\n",
       " '2017-01-17',\n",
       " '2017-01-21',\n",
       " '2017-01-18',\n",
       " '2017-01-09',\n",
       " '2017-01-16',\n",
       " '2017-01-21',\n",
       " '2017-01-10',\n",
       " '2017-01-21',\n",
       " '2017-01-12',\n",
       " '2017-01-02',\n",
       " '2017-01-04',\n",
       " '2017-01-24',\n",
       " '2017-01-16',\n",
       " '2017-01-09',\n",
       " '2017-01-19',\n",
       " '2017-01-09',\n",
       " '2017-01-03',\n",
       " '2017-01-11',\n",
       " '2017-01-11',\n",
       " '2017-01-11',\n",
       " '2017-01-18',\n",
       " '2017-01-02',\n",
       " '2017-01-09',\n",
       " '2017-01-10',\n",
       " '2017-01-05',\n",
       " '2017-01-24',\n",
       " '2017-01-17',\n",
       " '2017-01-11',\n",
       " '2017-01-11',\n",
       " '2017-01-16',\n",
       " '2017-01-06',\n",
       " '2017-01-09',\n",
       " '2017-01-17',\n",
       " '2017-01-18',\n",
       " '2017-01-03',\n",
       " '2017-01-21',\n",
       " '2017-01-05',\n",
       " '2017-01-07',\n",
       " '2017-01-08',\n",
       " '2017-01-14',\n",
       " '2017-01-12',\n",
       " '2017-01-19',\n",
       " '2017-01-06',\n",
       " '2017-01-13',\n",
       " '2017-01-15',\n",
       " '2017-01-12',\n",
       " '2017-01-04',\n",
       " '2017-01-02',\n",
       " '2017-01-08',\n",
       " '2017-01-13',\n",
       " '2017-01-04',\n",
       " '2017-01-04',\n",
       " '2017-01-21',\n",
       " '2017-01-18',\n",
       " '2017-01-09',\n",
       " '2017-01-11',\n",
       " '2017-01-08',\n",
       " '2017-01-16',\n",
       " '2017-01-04',\n",
       " '2017-01-17',\n",
       " '2017-01-23',\n",
       " '2017-01-02',\n",
       " '2017-01-17',\n",
       " '2017-01-13',\n",
       " '2017-01-23',\n",
       " '2017-01-16',\n",
       " '2017-01-22',\n",
       " '2017-01-06',\n",
       " '2017-01-19',\n",
       " '2017-01-23',\n",
       " '2017-01-19',\n",
       " '2017-01-05',\n",
       " '2017-01-02',\n",
       " '2017-01-13',\n",
       " '2017-01-09',\n",
       " '2017-01-12',\n",
       " '2017-01-13',\n",
       " '2017-01-07',\n",
       " '2017-01-08',\n",
       " '2017-01-03',\n",
       " '2017-01-21',\n",
       " '2017-01-21',\n",
       " '2017-01-05',\n",
       " '2017-01-13',\n",
       " '2017-01-17',\n",
       " '2017-01-20',\n",
       " '2017-01-04',\n",
       " '2017-01-17',\n",
       " '2017-01-17',\n",
       " '2017-01-20',\n",
       " '2017-01-04',\n",
       " '2017-01-07',\n",
       " '2017-01-14',\n",
       " '2017-01-19',\n",
       " '2017-01-03',\n",
       " '2017-01-21',\n",
       " '2017-01-14',\n",
       " '2017-01-24',\n",
       " '2017-01-12',\n",
       " '2017-01-19',\n",
       " '2017-01-13',\n",
       " '2017-01-19',\n",
       " '2017-01-22',\n",
       " '2017-01-23',\n",
       " '2017-01-17',\n",
       " '2017-01-14',\n",
       " '2017-01-11',\n",
       " '2017-01-03',\n",
       " '2017-01-09',\n",
       " '2017-01-22',\n",
       " '2017-01-17',\n",
       " '2017-01-16',\n",
       " '2017-01-03',\n",
       " '2017-01-04',\n",
       " '2017-01-05',\n",
       " '2017-01-23',\n",
       " '2017-01-11',\n",
       " '2017-01-18',\n",
       " '2017-01-23',\n",
       " '2017-01-07',\n",
       " '2017-01-03',\n",
       " '2017-01-07',\n",
       " '2017-01-06',\n",
       " '2017-01-09',\n",
       " '2017-01-09',\n",
       " '2017-01-24',\n",
       " '2017-01-15',\n",
       " '2017-01-12',\n",
       " '2017-01-08',\n",
       " '2017-01-19',\n",
       " '2017-01-20',\n",
       " '2017-01-16',\n",
       " '2017-01-10',\n",
       " '2017-01-10',\n",
       " '2017-01-16',\n",
       " '2017-01-05',\n",
       " '2017-01-22',\n",
       " '2017-01-19',\n",
       " '2017-01-08',\n",
       " '2017-01-06',\n",
       " '2017-01-16',\n",
       " '2017-01-10',\n",
       " '2017-01-14',\n",
       " '2017-01-10',\n",
       " '2017-01-21',\n",
       " '2017-01-17',\n",
       " '2017-01-21',\n",
       " '2017-01-03',\n",
       " '2017-01-13',\n",
       " '2017-01-17',\n",
       " '2017-01-23',\n",
       " '2017-01-21',\n",
       " '2017-01-23',\n",
       " '2017-01-19',\n",
       " '2017-01-06',\n",
       " '2017-01-12',\n",
       " '2017-01-17',\n",
       " '2017-01-19',\n",
       " '2017-01-06',\n",
       " '2017-01-17',\n",
       " '2017-01-11',\n",
       " '2017-01-13',\n",
       " '2017-01-03',\n",
       " '2017-01-03',\n",
       " '2017-01-08',\n",
       " '2017-01-09',\n",
       " '2017-01-23',\n",
       " '2017-01-04',\n",
       " '2017-01-22',\n",
       " '2017-01-11',\n",
       " '2017-01-20',\n",
       " '2017-01-08',\n",
       " '2017-01-23',\n",
       " '2017-01-09',\n",
       " '2017-01-15',\n",
       " '2017-01-11',\n",
       " '2017-01-06',\n",
       " '2017-01-08',\n",
       " '2017-01-18',\n",
       " '2017-01-17',\n",
       " '2017-01-16',\n",
       " '2017-01-19',\n",
       " '2017-01-14',\n",
       " '2017-01-11',\n",
       " '2017-01-10',\n",
       " '2017-01-03',\n",
       " '2017-01-22',\n",
       " '2017-01-13',\n",
       " '2017-01-13',\n",
       " '2017-01-17',\n",
       " '2017-01-03',\n",
       " '2017-01-04',\n",
       " '2017-01-24',\n",
       " '2017-01-18',\n",
       " '2017-01-12',\n",
       " '2017-01-07',\n",
       " '2017-01-05',\n",
       " '2017-01-12',\n",
       " '2017-01-23',\n",
       " '2017-01-24',\n",
       " '2017-01-03',\n",
       " '2017-01-15',\n",
       " '2017-01-21',\n",
       " '2017-01-18',\n",
       " '2017-01-06',\n",
       " '2017-01-11',\n",
       " '2017-01-12',\n",
       " '2017-01-15',\n",
       " '2017-01-10',\n",
       " '2017-01-10',\n",
       " '2017-01-10',\n",
       " '2017-01-23',\n",
       " '2017-01-15',\n",
       " '2017-01-08',\n",
       " '2017-01-15',\n",
       " '2017-01-03',\n",
       " '2017-01-24',\n",
       " '2017-01-09',\n",
       " '2017-01-13',\n",
       " '2017-01-21',\n",
       " '2017-01-20',\n",
       " '2017-01-14',\n",
       " '2017-01-24',\n",
       " '2017-01-10',\n",
       " '2017-01-13',\n",
       " '2017-01-24',\n",
       " '2017-01-10',\n",
       " '2017-01-11',\n",
       " '2017-01-12',\n",
       " '2017-01-18',\n",
       " '2017-01-10',\n",
       " '2017-01-09',\n",
       " '2017-01-17',\n",
       " '2017-01-17',\n",
       " '2017-01-05',\n",
       " '2017-01-17',\n",
       " '2017-01-15',\n",
       " '2017-01-02',\n",
       " '2017-01-13',\n",
       " '2017-01-04',\n",
       " '2017-01-16',\n",
       " '2017-01-10',\n",
       " '2017-01-20',\n",
       " '2017-01-18',\n",
       " '2017-01-11',\n",
       " '2017-01-20',\n",
       " '2017-01-06',\n",
       " '2017-01-10',\n",
       " '2017-01-16',\n",
       " '2017-01-08',\n",
       " '2017-01-04',\n",
       " '2017-01-07',\n",
       " '2017-01-21',\n",
       " '2017-01-24',\n",
       " '2017-01-04',\n",
       " '2017-01-18',\n",
       " '2017-01-14',\n",
       " '2017-01-11',\n",
       " '2017-01-16',\n",
       " '2017-01-10',\n",
       " '2017-01-20',\n",
       " '2017-01-03',\n",
       " '2017-01-05',\n",
       " '2017-01-02',\n",
       " '2017-01-19',\n",
       " '2017-01-20',\n",
       " '2017-01-08',\n",
       " '2017-01-18',\n",
       " '2017-01-08',\n",
       " '2017-01-23',\n",
       " '2017-01-20',\n",
       " '2017-01-19',\n",
       " '2017-01-19',\n",
       " '2017-01-19',\n",
       " '2017-01-07',\n",
       " '2017-01-16',\n",
       " '2017-01-04',\n",
       " '2017-01-20',\n",
       " '2017-01-22',\n",
       " '2017-01-12',\n",
       " '2017-01-17',\n",
       " '2017-01-21',\n",
       " '2017-01-12',\n",
       " '2017-01-16',\n",
       " '2017-01-22',\n",
       " '2017-01-16',\n",
       " '2017-01-10',\n",
       " '2017-01-03',\n",
       " '2017-01-16',\n",
       " '2017-01-19',\n",
       " '2017-01-17',\n",
       " '2017-01-10',\n",
       " '2017-01-13',\n",
       " '2017-01-11',\n",
       " '2017-01-06',\n",
       " '2017-01-11',\n",
       " '2017-01-17',\n",
       " '2017-01-16',\n",
       " '2017-01-11',\n",
       " '2017-01-13',\n",
       " '2017-01-16',\n",
       " '2017-01-07',\n",
       " '2017-01-10',\n",
       " '2017-01-04',\n",
       " '2017-01-12',\n",
       " '2017-01-20',\n",
       " '2017-01-08',\n",
       " '2017-01-13',\n",
       " '2017-01-15',\n",
       " '2017-01-08',\n",
       " '2017-01-09',\n",
       " '2017-01-06',\n",
       " '2017-01-23',\n",
       " '2017-01-02',\n",
       " '2017-01-11',\n",
       " '2017-01-06',\n",
       " '2017-01-05',\n",
       " '2017-01-06',\n",
       " '2017-01-17',\n",
       " '2017-01-16',\n",
       " '2017-01-11',\n",
       " '2017-01-16',\n",
       " '2017-01-21',\n",
       " '2017-01-24',\n",
       " '2017-01-23',\n",
       " '2017-01-11',\n",
       " '2017-01-23',\n",
       " '2017-01-07',\n",
       " '2017-01-06',\n",
       " '2017-01-04',\n",
       " '2017-01-10',\n",
       " '2017-01-09',\n",
       " '2017-01-10',\n",
       " '2017-01-18',\n",
       " '2017-01-13',\n",
       " '2017-01-10',\n",
       " '2017-01-15',\n",
       " '2017-01-17',\n",
       " '2017-01-07',\n",
       " '2017-01-17',\n",
       " '2017-01-15',\n",
       " '2017-01-23',\n",
       " '2017-01-08',\n",
       " '2017-01-24',\n",
       " '2017-01-07',\n",
       " '2017-01-08',\n",
       " '2017-01-06',\n",
       " '2017-01-10',\n",
       " '2017-01-13',\n",
       " '2017-01-09',\n",
       " '2017-01-14',\n",
       " '2017-01-18',\n",
       " '2017-01-09',\n",
       " '2017-01-07',\n",
       " '2017-01-10',\n",
       " '2017-01-15',\n",
       " '2017-01-15',\n",
       " '2017-01-20',\n",
       " '2017-01-11',\n",
       " '2017-01-18',\n",
       " '2017-01-11',\n",
       " '2017-01-18',\n",
       " '2017-01-12',\n",
       " '2017-01-08',\n",
       " '2017-01-07',\n",
       " '2017-01-22',\n",
       " '2017-01-23',\n",
       " '2017-01-23',\n",
       " '2017-01-21',\n",
       " '2017-01-12',\n",
       " '2017-01-08',\n",
       " '2017-01-21',\n",
       " '2017-01-12',\n",
       " '2017-01-09',\n",
       " '2017-01-16',\n",
       " '2017-01-10',\n",
       " '2017-01-10',\n",
       " '2017-01-13',\n",
       " '2017-01-04',\n",
       " '2017-01-09',\n",
       " '2017-01-06',\n",
       " '2017-01-14',\n",
       " '2017-01-06',\n",
       " '2017-01-11',\n",
       " '2017-01-06',\n",
       " '2017-01-11',\n",
       " '2017-01-06',\n",
       " '2017-01-02',\n",
       " '2017-01-19',\n",
       " '2017-01-20',\n",
       " '2017-01-04',\n",
       " '2017-01-03',\n",
       " '2017-01-16',\n",
       " '2017-01-07',\n",
       " '2017-01-20',\n",
       " '2017-01-13',\n",
       " '2017-01-15',\n",
       " '2017-01-10',\n",
       " '2017-01-08',\n",
       " '2017-01-16',\n",
       " '2017-01-21',\n",
       " '2017-01-16',\n",
       " '2017-01-17',\n",
       " '2017-01-08',\n",
       " '2017-01-16',\n",
       " '2017-01-22',\n",
       " '2017-01-09',\n",
       " '2017-01-13',\n",
       " '2017-01-12',\n",
       " '2017-01-24',\n",
       " '2017-01-18',\n",
       " '2017-01-13',\n",
       " '2017-01-04',\n",
       " '2017-01-23',\n",
       " '2017-01-17',\n",
       " '2017-01-20',\n",
       " '2017-01-15',\n",
       " '2017-01-05',\n",
       " '2017-01-18',\n",
       " '2017-01-16',\n",
       " '2017-01-21',\n",
       " '2017-01-13',\n",
       " '2017-01-24',\n",
       " '2017-01-09',\n",
       " '2017-01-17',\n",
       " '2017-01-14',\n",
       " '2017-01-16',\n",
       " '2017-01-23',\n",
       " '2017-01-02',\n",
       " '2017-01-18',\n",
       " '2017-01-20',\n",
       " '2017-01-09',\n",
       " '2017-01-24',\n",
       " '2017-01-05',\n",
       " '2017-01-13',\n",
       " '2017-01-15',\n",
       " '2017-01-08',\n",
       " '2017-01-19',\n",
       " '2017-01-16',\n",
       " '2017-01-15',\n",
       " '2017-01-04',\n",
       " '2017-01-02',\n",
       " '2017-01-04',\n",
       " '2017-01-19',\n",
       " '2017-01-07',\n",
       " '2017-01-21',\n",
       " '2017-01-08',\n",
       " '2017-01-06',\n",
       " '2017-01-22',\n",
       " '2017-01-24',\n",
       " '2017-01-20',\n",
       " '2017-01-08',\n",
       " '2017-01-03',\n",
       " '2017-01-17',\n",
       " '2017-01-07',\n",
       " '2017-01-06',\n",
       " '2017-01-13',\n",
       " ...]"
      ]
     },
     "execution_count": 36,
     "metadata": {},
     "output_type": "execute_result"
    }
   ],
   "source": [
    "[i[0] for i in df_new['timestamp'].str.split(\" \")]"
   ]
  },
  {
   "cell_type": "code",
   "execution_count": 37,
   "id": "ab78e4f4-13d3-440f-a9f1-7f4d685f7b48",
   "metadata": {},
   "outputs": [
    {
     "data": {
      "text/plain": [
       "23"
      ]
     },
     "execution_count": 37,
     "metadata": {},
     "output_type": "execute_result"
    }
   ],
   "source": [
    "len(set([i[0] for i in df_new['timestamp'].str.split(\" \")]))"
   ]
  },
  {
   "cell_type": "code",
   "execution_count": 38,
   "id": "18be23a9-3372-46fd-b295-3c30b254bb1e",
   "metadata": {},
   "outputs": [
    {
     "name": "stdout",
     "output_type": "stream",
     "text": [
      "<class 'pandas.core.frame.DataFrame'>\n",
      "Index: 286690 entries, 0 to 294477\n",
      "Data columns (total 5 columns):\n",
      " #   Column        Non-Null Count   Dtype \n",
      "---  ------        --------------   ----- \n",
      " 0   user_id       286690 non-null  int64 \n",
      " 1   timestamp     286690 non-null  object\n",
      " 2   group         286690 non-null  object\n",
      " 3   landing_page  286690 non-null  object\n",
      " 4   converted     286690 non-null  int64 \n",
      "dtypes: int64(2), object(3)\n",
      "memory usage: 13.1+ MB\n"
     ]
    }
   ],
   "source": [
    "# 确保数据一一匹配\n",
    "df_new.info()"
   ]
  },
  {
   "cell_type": "code",
   "execution_count": 39,
   "id": "b0358b06-7b7e-4f9d-a01e-2995643b5ecc",
   "metadata": {},
   "outputs": [
    {
     "data": {
      "text/plain": [
       "286690"
      ]
     },
     "execution_count": 39,
     "metadata": {},
     "output_type": "execute_result"
    }
   ],
   "source": [
    "# control组对应old_page,treatment组对应new_page\n",
    "(((df_new['group']=='treatment')&(df_new['landing_page']=='new_page'))|((df_new['group']=='control')&(df_new['landing_page']=='old_page'))).sum()"
   ]
  },
  {
   "cell_type": "code",
   "execution_count": 40,
   "id": "9e477d94-2a6a-4fa5-ac18-d6037e718fb7",
   "metadata": {},
   "outputs": [
    {
     "data": {
      "text/html": [
       "<div>\n",
       "<style scoped>\n",
       "    .dataframe tbody tr th:only-of-type {\n",
       "        vertical-align: middle;\n",
       "    }\n",
       "\n",
       "    .dataframe tbody tr th {\n",
       "        vertical-align: top;\n",
       "    }\n",
       "\n",
       "    .dataframe thead th {\n",
       "        text-align: right;\n",
       "    }\n",
       "</style>\n",
       "<table border=\"1\" class=\"dataframe\">\n",
       "  <thead>\n",
       "    <tr style=\"text-align: right;\">\n",
       "      <th>landing_page</th>\n",
       "      <th>new_page</th>\n",
       "      <th>old_page</th>\n",
       "    </tr>\n",
       "    <tr>\n",
       "      <th>group</th>\n",
       "      <th></th>\n",
       "      <th></th>\n",
       "    </tr>\n",
       "  </thead>\n",
       "  <tbody>\n",
       "    <tr>\n",
       "      <th>control</th>\n",
       "      <td>0</td>\n",
       "      <td>143293</td>\n",
       "    </tr>\n",
       "    <tr>\n",
       "      <th>treatment</th>\n",
       "      <td>143397</td>\n",
       "      <td>0</td>\n",
       "    </tr>\n",
       "  </tbody>\n",
       "</table>\n",
       "</div>"
      ],
      "text/plain": [
       "landing_page  new_page  old_page\n",
       "group                           \n",
       "control              0    143293\n",
       "treatment       143397         0"
      ]
     },
     "execution_count": 40,
     "metadata": {},
     "output_type": "execute_result"
    }
   ],
   "source": [
    "# 确保contorl组每个用户看到的是旧页面，treatment组看到的是新页面\n",
    "pd.crosstab(df_new['group'], df_new['landing_page'])"
   ]
  },
  {
   "cell_type": "markdown",
   "id": "6c627858-5adb-45f3-a127-d88f21c98f7c",
   "metadata": {},
   "source": [
    "至此，所有的数据清洗工作已完成。"
   ]
  },
  {
   "cell_type": "markdown",
   "id": "b7b6f595-ba6c-4783-8be7-a466fac02da1",
   "metadata": {},
   "source": [
    "- **抽样**"
   ]
  },
  {
   "cell_type": "markdown",
   "id": "56ccd67a-ffe0-4a9e-9b0a-83b86c35c2a2",
   "metadata": {},
   "source": [
    "根据前面最小样本量的计算，我们至少需要每组4720个样本，这里我们选择每组抽样5000个（实际工作中不需要抽样这一步）"
   ]
  },
  {
   "cell_type": "code",
   "execution_count": 42,
   "id": "dfc494f8-85bf-486a-8026-b39e761b1041",
   "metadata": {},
   "outputs": [
    {
     "data": {
      "text/html": [
       "<div>\n",
       "<style scoped>\n",
       "    .dataframe tbody tr th:only-of-type {\n",
       "        vertical-align: middle;\n",
       "    }\n",
       "\n",
       "    .dataframe tbody tr th {\n",
       "        vertical-align: top;\n",
       "    }\n",
       "\n",
       "    .dataframe thead th {\n",
       "        text-align: right;\n",
       "    }\n",
       "</style>\n",
       "<table border=\"1\" class=\"dataframe\">\n",
       "  <thead>\n",
       "    <tr style=\"text-align: right;\">\n",
       "      <th></th>\n",
       "      <th>user_id</th>\n",
       "      <th>timestamp</th>\n",
       "      <th>group</th>\n",
       "      <th>landing_page</th>\n",
       "      <th>converted</th>\n",
       "    </tr>\n",
       "  </thead>\n",
       "  <tbody>\n",
       "    <tr>\n",
       "      <th>186628</th>\n",
       "      <td>763854</td>\n",
       "      <td>2017-01-21 03:43:17.188315</td>\n",
       "      <td>control</td>\n",
       "      <td>old_page</td>\n",
       "      <td>0</td>\n",
       "    </tr>\n",
       "    <tr>\n",
       "      <th>57904</th>\n",
       "      <td>690555</td>\n",
       "      <td>2017-01-18 06:38:13.079449</td>\n",
       "      <td>control</td>\n",
       "      <td>old_page</td>\n",
       "      <td>0</td>\n",
       "    </tr>\n",
       "    <tr>\n",
       "      <th>13276</th>\n",
       "      <td>861520</td>\n",
       "      <td>2017-01-06 21:13:40.044766</td>\n",
       "      <td>control</td>\n",
       "      <td>old_page</td>\n",
       "      <td>0</td>\n",
       "    </tr>\n",
       "    <tr>\n",
       "      <th>228415</th>\n",
       "      <td>630778</td>\n",
       "      <td>2017-01-05 16:42:36.995204</td>\n",
       "      <td>control</td>\n",
       "      <td>old_page</td>\n",
       "      <td>0</td>\n",
       "    </tr>\n",
       "    <tr>\n",
       "      <th>96065</th>\n",
       "      <td>656634</td>\n",
       "      <td>2017-01-04 15:31:21.676130</td>\n",
       "      <td>control</td>\n",
       "      <td>old_page</td>\n",
       "      <td>0</td>\n",
       "    </tr>\n",
       "    <tr>\n",
       "      <th>...</th>\n",
       "      <td>...</td>\n",
       "      <td>...</td>\n",
       "      <td>...</td>\n",
       "      <td>...</td>\n",
       "      <td>...</td>\n",
       "    </tr>\n",
       "    <tr>\n",
       "      <th>65843</th>\n",
       "      <td>872601</td>\n",
       "      <td>2017-01-03 19:00:05.954550</td>\n",
       "      <td>control</td>\n",
       "      <td>old_page</td>\n",
       "      <td>0</td>\n",
       "    </tr>\n",
       "    <tr>\n",
       "      <th>94034</th>\n",
       "      <td>646677</td>\n",
       "      <td>2017-01-17 15:34:00.011127</td>\n",
       "      <td>control</td>\n",
       "      <td>old_page</td>\n",
       "      <td>0</td>\n",
       "    </tr>\n",
       "    <tr>\n",
       "      <th>77635</th>\n",
       "      <td>895315</td>\n",
       "      <td>2017-01-07 02:41:17.321930</td>\n",
       "      <td>control</td>\n",
       "      <td>old_page</td>\n",
       "      <td>0</td>\n",
       "    </tr>\n",
       "    <tr>\n",
       "      <th>63216</th>\n",
       "      <td>648194</td>\n",
       "      <td>2017-01-16 22:44:54.889419</td>\n",
       "      <td>control</td>\n",
       "      <td>old_page</td>\n",
       "      <td>0</td>\n",
       "    </tr>\n",
       "    <tr>\n",
       "      <th>169629</th>\n",
       "      <td>872383</td>\n",
       "      <td>2017-01-12 23:47:30.689899</td>\n",
       "      <td>control</td>\n",
       "      <td>old_page</td>\n",
       "      <td>0</td>\n",
       "    </tr>\n",
       "  </tbody>\n",
       "</table>\n",
       "<p>4719 rows × 5 columns</p>\n",
       "</div>"
      ],
      "text/plain": [
       "        user_id                   timestamp    group landing_page  converted\n",
       "186628   763854  2017-01-21 03:43:17.188315  control     old_page          0\n",
       "57904    690555  2017-01-18 06:38:13.079449  control     old_page          0\n",
       "13276    861520  2017-01-06 21:13:40.044766  control     old_page          0\n",
       "228415   630778  2017-01-05 16:42:36.995204  control     old_page          0\n",
       "96065    656634  2017-01-04 15:31:21.676130  control     old_page          0\n",
       "...         ...                         ...      ...          ...        ...\n",
       "65843    872601  2017-01-03 19:00:05.954550  control     old_page          0\n",
       "94034    646677  2017-01-17 15:34:00.011127  control     old_page          0\n",
       "77635    895315  2017-01-07 02:41:17.321930  control     old_page          0\n",
       "63216    648194  2017-01-16 22:44:54.889419  control     old_page          0\n",
       "169629   872383  2017-01-12 23:47:30.689899  control     old_page          0\n",
       "\n",
       "[4719 rows x 5 columns]"
      ]
     },
     "execution_count": 42,
     "metadata": {},
     "output_type": "execute_result"
    }
   ],
   "source": [
    "df_new[df_new['group'] == 'control'].sample(n=int(required_n), random_state=22)"
   ]
  },
  {
   "cell_type": "code",
   "execution_count": 43,
   "id": "353c220b-d0ef-4f7a-ab7e-b9b09d9e28eb",
   "metadata": {},
   "outputs": [
    {
     "data": {
      "text/html": [
       "<div>\n",
       "<style scoped>\n",
       "    .dataframe tbody tr th:only-of-type {\n",
       "        vertical-align: middle;\n",
       "    }\n",
       "\n",
       "    .dataframe tbody tr th {\n",
       "        vertical-align: top;\n",
       "    }\n",
       "\n",
       "    .dataframe thead th {\n",
       "        text-align: right;\n",
       "    }\n",
       "</style>\n",
       "<table border=\"1\" class=\"dataframe\">\n",
       "  <thead>\n",
       "    <tr style=\"text-align: right;\">\n",
       "      <th></th>\n",
       "      <th>user_id</th>\n",
       "      <th>timestamp</th>\n",
       "      <th>group</th>\n",
       "      <th>landing_page</th>\n",
       "      <th>converted</th>\n",
       "    </tr>\n",
       "  </thead>\n",
       "  <tbody>\n",
       "    <tr>\n",
       "      <th>0</th>\n",
       "      <td>763854</td>\n",
       "      <td>2017-01-21 03:43:17.188315</td>\n",
       "      <td>control</td>\n",
       "      <td>old_page</td>\n",
       "      <td>0</td>\n",
       "    </tr>\n",
       "    <tr>\n",
       "      <th>1</th>\n",
       "      <td>690555</td>\n",
       "      <td>2017-01-18 06:38:13.079449</td>\n",
       "      <td>control</td>\n",
       "      <td>old_page</td>\n",
       "      <td>0</td>\n",
       "    </tr>\n",
       "    <tr>\n",
       "      <th>2</th>\n",
       "      <td>861520</td>\n",
       "      <td>2017-01-06 21:13:40.044766</td>\n",
       "      <td>control</td>\n",
       "      <td>old_page</td>\n",
       "      <td>0</td>\n",
       "    </tr>\n",
       "    <tr>\n",
       "      <th>3</th>\n",
       "      <td>630778</td>\n",
       "      <td>2017-01-05 16:42:36.995204</td>\n",
       "      <td>control</td>\n",
       "      <td>old_page</td>\n",
       "      <td>0</td>\n",
       "    </tr>\n",
       "    <tr>\n",
       "      <th>4</th>\n",
       "      <td>656634</td>\n",
       "      <td>2017-01-04 15:31:21.676130</td>\n",
       "      <td>control</td>\n",
       "      <td>old_page</td>\n",
       "      <td>0</td>\n",
       "    </tr>\n",
       "    <tr>\n",
       "      <th>...</th>\n",
       "      <td>...</td>\n",
       "      <td>...</td>\n",
       "      <td>...</td>\n",
       "      <td>...</td>\n",
       "      <td>...</td>\n",
       "    </tr>\n",
       "    <tr>\n",
       "      <th>9995</th>\n",
       "      <td>787786</td>\n",
       "      <td>2017-01-06 18:10:45.577881</td>\n",
       "      <td>treatment</td>\n",
       "      <td>new_page</td>\n",
       "      <td>0</td>\n",
       "    </tr>\n",
       "    <tr>\n",
       "      <th>9996</th>\n",
       "      <td>770196</td>\n",
       "      <td>2017-01-24 07:07:24.954319</td>\n",
       "      <td>treatment</td>\n",
       "      <td>new_page</td>\n",
       "      <td>0</td>\n",
       "    </tr>\n",
       "    <tr>\n",
       "      <th>9997</th>\n",
       "      <td>775724</td>\n",
       "      <td>2017-01-18 10:54:36.300523</td>\n",
       "      <td>treatment</td>\n",
       "      <td>new_page</td>\n",
       "      <td>0</td>\n",
       "    </tr>\n",
       "    <tr>\n",
       "      <th>9998</th>\n",
       "      <td>920254</td>\n",
       "      <td>2017-01-23 00:40:30.728885</td>\n",
       "      <td>treatment</td>\n",
       "      <td>new_page</td>\n",
       "      <td>0</td>\n",
       "    </tr>\n",
       "    <tr>\n",
       "      <th>9999</th>\n",
       "      <td>823865</td>\n",
       "      <td>2017-01-21 10:23:20.150205</td>\n",
       "      <td>treatment</td>\n",
       "      <td>new_page</td>\n",
       "      <td>0</td>\n",
       "    </tr>\n",
       "  </tbody>\n",
       "</table>\n",
       "<p>10000 rows × 5 columns</p>\n",
       "</div>"
      ],
      "text/plain": [
       "      user_id                   timestamp      group landing_page  converted\n",
       "0      763854  2017-01-21 03:43:17.188315    control     old_page          0\n",
       "1      690555  2017-01-18 06:38:13.079449    control     old_page          0\n",
       "2      861520  2017-01-06 21:13:40.044766    control     old_page          0\n",
       "3      630778  2017-01-05 16:42:36.995204    control     old_page          0\n",
       "4      656634  2017-01-04 15:31:21.676130    control     old_page          0\n",
       "...       ...                         ...        ...          ...        ...\n",
       "9995   787786  2017-01-06 18:10:45.577881  treatment     new_page          0\n",
       "9996   770196  2017-01-24 07:07:24.954319  treatment     new_page          0\n",
       "9997   775724  2017-01-18 10:54:36.300523  treatment     new_page          0\n",
       "9998   920254  2017-01-23 00:40:30.728885  treatment     new_page          0\n",
       "9999   823865  2017-01-21 10:23:20.150205  treatment     new_page          0\n",
       "\n",
       "[10000 rows x 5 columns]"
      ]
     },
     "execution_count": 43,
     "metadata": {},
     "output_type": "execute_result"
    }
   ],
   "source": [
    "required_n = 5000\n",
    "control_sample = df_new[df_new['group'] == 'control'].sample(n=required_n, random_state=22) \n",
    "treatment_sample = df_new[df_new['group'] == 'treatment'].sample(n=required_n, random_state=22) \n",
    "\n",
    "ab_test = pd.concat([control_sample, treatment_sample], axis=0) \n",
    "ab_test.reset_index(drop=True, inplace=True)\n",
    "ab_test"
   ]
  },
  {
   "cell_type": "code",
   "execution_count": 44,
   "id": "cb42eb4d-3b94-487b-a0cb-bed578462068",
   "metadata": {},
   "outputs": [
    {
     "data": {
      "text/html": [
       "<div>\n",
       "<style scoped>\n",
       "    .dataframe tbody tr th:only-of-type {\n",
       "        vertical-align: middle;\n",
       "    }\n",
       "\n",
       "    .dataframe tbody tr th {\n",
       "        vertical-align: top;\n",
       "    }\n",
       "\n",
       "    .dataframe thead th {\n",
       "        text-align: right;\n",
       "    }\n",
       "</style>\n",
       "<table border=\"1\" class=\"dataframe\">\n",
       "  <thead>\n",
       "    <tr style=\"text-align: right;\">\n",
       "      <th>landing_page</th>\n",
       "      <th>new_page</th>\n",
       "      <th>old_page</th>\n",
       "    </tr>\n",
       "    <tr>\n",
       "      <th>group</th>\n",
       "      <th></th>\n",
       "      <th></th>\n",
       "    </tr>\n",
       "  </thead>\n",
       "  <tbody>\n",
       "    <tr>\n",
       "      <th>control</th>\n",
       "      <td>0</td>\n",
       "      <td>5000</td>\n",
       "    </tr>\n",
       "    <tr>\n",
       "      <th>treatment</th>\n",
       "      <td>5000</td>\n",
       "      <td>0</td>\n",
       "    </tr>\n",
       "  </tbody>\n",
       "</table>\n",
       "</div>"
      ],
      "text/plain": [
       "landing_page  new_page  old_page\n",
       "group                           \n",
       "control              0      5000\n",
       "treatment         5000         0"
      ]
     },
     "execution_count": 44,
     "metadata": {},
     "output_type": "execute_result"
    }
   ],
   "source": [
    "pd.crosstab(ab_test['group'], ab_test['landing_page'])"
   ]
  },
  {
   "cell_type": "markdown",
   "id": "69b9032e-7c8e-414c-bb6d-4ebd83e820cb",
   "metadata": {},
   "source": [
    "- **可视化结果【选做】**"
   ]
  },
  {
   "cell_type": "code",
   "execution_count": 45,
   "id": "2db1d9a1-2725-4cd7-84b1-76013c8f35c4",
   "metadata": {},
   "outputs": [
    {
     "data": {
      "text/html": [
       "<div>\n",
       "<style scoped>\n",
       "    .dataframe tbody tr th:only-of-type {\n",
       "        vertical-align: middle;\n",
       "    }\n",
       "\n",
       "    .dataframe tbody tr th {\n",
       "        vertical-align: top;\n",
       "    }\n",
       "\n",
       "    .dataframe thead th {\n",
       "        text-align: right;\n",
       "    }\n",
       "</style>\n",
       "<table border=\"1\" class=\"dataframe\">\n",
       "  <thead>\n",
       "    <tr style=\"text-align: right;\">\n",
       "      <th></th>\n",
       "      <th>user_id</th>\n",
       "      <th>timestamp</th>\n",
       "      <th>group</th>\n",
       "      <th>landing_page</th>\n",
       "      <th>converted</th>\n",
       "    </tr>\n",
       "  </thead>\n",
       "  <tbody>\n",
       "    <tr>\n",
       "      <th>0</th>\n",
       "      <td>763854</td>\n",
       "      <td>2017-01-21 03:43:17.188315</td>\n",
       "      <td>control</td>\n",
       "      <td>old_page</td>\n",
       "      <td>0</td>\n",
       "    </tr>\n",
       "    <tr>\n",
       "      <th>1</th>\n",
       "      <td>690555</td>\n",
       "      <td>2017-01-18 06:38:13.079449</td>\n",
       "      <td>control</td>\n",
       "      <td>old_page</td>\n",
       "      <td>0</td>\n",
       "    </tr>\n",
       "    <tr>\n",
       "      <th>2</th>\n",
       "      <td>861520</td>\n",
       "      <td>2017-01-06 21:13:40.044766</td>\n",
       "      <td>control</td>\n",
       "      <td>old_page</td>\n",
       "      <td>0</td>\n",
       "    </tr>\n",
       "    <tr>\n",
       "      <th>3</th>\n",
       "      <td>630778</td>\n",
       "      <td>2017-01-05 16:42:36.995204</td>\n",
       "      <td>control</td>\n",
       "      <td>old_page</td>\n",
       "      <td>0</td>\n",
       "    </tr>\n",
       "    <tr>\n",
       "      <th>4</th>\n",
       "      <td>656634</td>\n",
       "      <td>2017-01-04 15:31:21.676130</td>\n",
       "      <td>control</td>\n",
       "      <td>old_page</td>\n",
       "      <td>0</td>\n",
       "    </tr>\n",
       "  </tbody>\n",
       "</table>\n",
       "</div>"
      ],
      "text/plain": [
       "   user_id                   timestamp    group landing_page  converted\n",
       "0   763854  2017-01-21 03:43:17.188315  control     old_page          0\n",
       "1   690555  2017-01-18 06:38:13.079449  control     old_page          0\n",
       "2   861520  2017-01-06 21:13:40.044766  control     old_page          0\n",
       "3   630778  2017-01-05 16:42:36.995204  control     old_page          0\n",
       "4   656634  2017-01-04 15:31:21.676130  control     old_page          0"
      ]
     },
     "execution_count": 45,
     "metadata": {},
     "output_type": "execute_result"
    }
   ],
   "source": [
    "ab_test.head()"
   ]
  },
  {
   "cell_type": "code",
   "execution_count": 46,
   "id": "2fbff8d5-1c26-465a-ae92-10e2c91968fa",
   "metadata": {},
   "outputs": [
    {
     "name": "stderr",
     "output_type": "stream",
     "text": [
      "/var/folders/7h/3q884k7n455b59vfjlyq33vm0000gn/T/ipykernel_35753/3751263133.py:1: FutureWarning: The provided callable <function mean at 0x1066bad40> is currently using SeriesGroupBy.mean. In a future version of pandas, the provided callable will be used directly. To keep current behavior pass the string \"mean\" instead.\n",
      "  conversion_rates = ab_test.groupby('group')['converted'].agg([np.mean,np.std])\n",
      "/var/folders/7h/3q884k7n455b59vfjlyq33vm0000gn/T/ipykernel_35753/3751263133.py:1: FutureWarning: The provided callable <function std at 0x1066bae80> is currently using SeriesGroupBy.std. In a future version of pandas, the provided callable will be used directly. To keep current behavior pass the string \"std\" instead.\n",
      "  conversion_rates = ab_test.groupby('group')['converted'].agg([np.mean,np.std])\n"
     ]
    }
   ],
   "source": [
    "conversion_rates = ab_test.groupby('group')['converted'].agg([np.mean,np.std])"
   ]
  },
  {
   "cell_type": "code",
   "execution_count": 47,
   "id": "6871f894-3615-4256-bb4d-46502e11a238",
   "metadata": {},
   "outputs": [
    {
     "data": {
      "text/html": [
       "<div>\n",
       "<style scoped>\n",
       "    .dataframe tbody tr th:only-of-type {\n",
       "        vertical-align: middle;\n",
       "    }\n",
       "\n",
       "    .dataframe tbody tr th {\n",
       "        vertical-align: top;\n",
       "    }\n",
       "\n",
       "    .dataframe thead th {\n",
       "        text-align: right;\n",
       "    }\n",
       "</style>\n",
       "<table border=\"1\" class=\"dataframe\">\n",
       "  <thead>\n",
       "    <tr style=\"text-align: right;\">\n",
       "      <th></th>\n",
       "      <th>mean</th>\n",
       "      <th>std</th>\n",
       "    </tr>\n",
       "    <tr>\n",
       "      <th>group</th>\n",
       "      <th></th>\n",
       "      <th></th>\n",
       "    </tr>\n",
       "  </thead>\n",
       "  <tbody>\n",
       "    <tr>\n",
       "      <th>control</th>\n",
       "      <td>0.1232</td>\n",
       "      <td>0.328700</td>\n",
       "    </tr>\n",
       "    <tr>\n",
       "      <th>treatment</th>\n",
       "      <td>0.1266</td>\n",
       "      <td>0.332558</td>\n",
       "    </tr>\n",
       "  </tbody>\n",
       "</table>\n",
       "</div>"
      ],
      "text/plain": [
       "             mean       std\n",
       "group                      \n",
       "control    0.1232  0.328700\n",
       "treatment  0.1266  0.332558"
      ]
     },
     "execution_count": 47,
     "metadata": {},
     "output_type": "execute_result"
    }
   ],
   "source": [
    "conversion_rates"
   ]
  },
  {
   "cell_type": "code",
   "execution_count": 48,
   "id": "d5f5dd96-6b7a-4b14-9f43-365ff9361233",
   "metadata": {},
   "outputs": [
    {
     "data": {
      "text/html": [
       "<div>\n",
       "<style scoped>\n",
       "    .dataframe tbody tr th:only-of-type {\n",
       "        vertical-align: middle;\n",
       "    }\n",
       "\n",
       "    .dataframe tbody tr th {\n",
       "        vertical-align: top;\n",
       "    }\n",
       "\n",
       "    .dataframe thead th {\n",
       "        text-align: right;\n",
       "    }\n",
       "</style>\n",
       "<table border=\"1\" class=\"dataframe\">\n",
       "  <thead>\n",
       "    <tr style=\"text-align: right;\">\n",
       "      <th></th>\n",
       "      <th>conversion_rate</th>\n",
       "      <th>std_deviation</th>\n",
       "    </tr>\n",
       "    <tr>\n",
       "      <th>group</th>\n",
       "      <th></th>\n",
       "      <th></th>\n",
       "    </tr>\n",
       "  </thead>\n",
       "  <tbody>\n",
       "    <tr>\n",
       "      <th>control</th>\n",
       "      <td>0.1232</td>\n",
       "      <td>0.328700</td>\n",
       "    </tr>\n",
       "    <tr>\n",
       "      <th>treatment</th>\n",
       "      <td>0.1266</td>\n",
       "      <td>0.332558</td>\n",
       "    </tr>\n",
       "  </tbody>\n",
       "</table>\n",
       "</div>"
      ],
      "text/plain": [
       "           conversion_rate  std_deviation\n",
       "group                                    \n",
       "control             0.1232       0.328700\n",
       "treatment           0.1266       0.332558"
      ]
     },
     "execution_count": 48,
     "metadata": {},
     "output_type": "execute_result"
    }
   ],
   "source": [
    "conversion_rates.columns = ['conversion_rate', 'std_deviation']\n",
    "conversion_rates"
   ]
  },
  {
   "cell_type": "code",
   "execution_count": 59,
   "id": "8cc0719b-b2c1-4757-9742-aff5b3231dda",
   "metadata": {},
   "outputs": [
    {
     "data": {
      "image/png": "[encoded data removed]",
      "text/plain": [
       "<Figure size 480x360 with 1 Axes>"
      ]
     },
     "metadata": {},
     "output_type": "display_data"
    }
   ],
   "source": [
    "plt.rcParams['font.family'] = 'SimHei'\n",
    "# plt.rcParams['font.family'] = \"Arial Unicode MS\"\n",
    "plt.rcParams['axes.unicode_minus'] = False\n",
    "\n",
    "plt.figure(figsize=(8,6),dpi=60) \n",
    "\n",
    "sns.barplot(x=ab_test['group'], y=ab_test['converted'], ci=False) \n",
    "\n",
    "plt.ylim(0, 0.17) \n",
    "plt.title( '分组转化率', fontsize=20) \n",
    "plt.xlabel('分组', fontsize=15) \n",
    "plt.ylabel('转化(比例)', fontsize=15);"
   ]
  },
  {
   "cell_type": "markdown",
   "id": "d35f8d87-f388-406f-a081-58a3009e5407",
   "metadata": {},
   "source": [
    "从上面的统计数据来看，新旧两版落地页的表现结果非常相近，相比于旧版落地页，新版落地页的转化率略微好一点点，高了0.3%<br><br>\n",
    "那么，这种差异在统计学上显著么？我们可以直接说，新版落地页更好么？"
   ]
  },
  {
   "cell_type": "markdown",
   "id": "edb613e5-4a40-4283-96ed-67c50515c3e8",
   "metadata": {},
   "source": [
    "- **假设检验**"
   ]
  },
  {
   "attachments": {
    "113b10d7-d6f7-43a9-a80a-2a6cd0e67015.png": {
     "image/png": "[encoded data removed]"
    }
   },
   "cell_type": "markdown",
   "id": "79bc53ac-3bee-4330-acfe-95eff9d514ec",
   "metadata": {},
   "source": [
    "我们分析的最后一步就是假设检验了。那么，具体选择哪一种假设检验呢？在统计学中，当样本容量较大时（一般是大于30），我们可以使用Z检验或者t检验。<br><br>\n",
    "![image.png](attachment:113b10d7-d6f7-43a9-a80a-2a6cd0e67015.png)"
   ]
  },
  {
   "cell_type": "markdown",
   "id": "d7646ec7-5bb6-4fe6-9677-4882ca480f7d",
   "metadata": {},
   "source": [
    "在这个案例中，由于我们的样本非常大，所以我们使用Z检验。Python中的statsmodels.stats.proportion模块可以来计算P值和置信区间："
   ]
  },
  {
   "cell_type": "code",
   "execution_count": 49,
   "id": "b70955e7-c582-4572-bee3-6a0ee2917f9e",
   "metadata": {},
   "outputs": [],
   "source": [
    "from statsmodels.stats.proportion import proportions_ztest, proportion_confint"
   ]
  },
  {
   "cell_type": "code",
   "execution_count": 50,
   "id": "2bcf0442-9bac-4d4f-bf56-4767c651387c",
   "metadata": {},
   "outputs": [],
   "source": [
    "control_results = ab_test[ab_test['group'] == 'control']['converted']\n",
    "treatment_results = ab_test[ab_test['group'] == 'treatment']['converted']"
   ]
  },
  {
   "cell_type": "code",
   "execution_count": 51,
   "id": "eded45eb-75c6-4110-80d8-7c8793dcf8c3",
   "metadata": {},
   "outputs": [
    {
     "data": {
      "text/plain": [
       "0       0\n",
       "1       0\n",
       "2       0\n",
       "3       0\n",
       "4       0\n",
       "       ..\n",
       "4995    0\n",
       "4996    0\n",
       "4997    0\n",
       "4998    1\n",
       "4999    0\n",
       "Name: converted, Length: 5000, dtype: int64"
      ]
     },
     "execution_count": 51,
     "metadata": {},
     "output_type": "execute_result"
    }
   ],
   "source": [
    "control_results"
   ]
  },
  {
   "cell_type": "code",
   "execution_count": 52,
   "id": "fa9df00a-4af8-46dc-aef7-412915a3f8be",
   "metadata": {},
   "outputs": [
    {
     "data": {
      "text/plain": [
       "5000    0\n",
       "5001    0\n",
       "5002    0\n",
       "5003    0\n",
       "5004    0\n",
       "       ..\n",
       "9995    0\n",
       "9996    0\n",
       "9997    0\n",
       "9998    0\n",
       "9999    0\n",
       "Name: converted, Length: 5000, dtype: int64"
      ]
     },
     "execution_count": 52,
     "metadata": {},
     "output_type": "execute_result"
    }
   ],
   "source": [
    "treatment_results"
   ]
  },
  {
   "cell_type": "code",
   "execution_count": 53,
   "id": "abec689e-0a9f-4a2b-b3db-5bb01eec0055",
   "metadata": {},
   "outputs": [
    {
     "data": {
      "text/plain": [
       "616"
      ]
     },
     "execution_count": 53,
     "metadata": {},
     "output_type": "execute_result"
    }
   ],
   "source": [
    "control_results.sum()"
   ]
  },
  {
   "cell_type": "code",
   "execution_count": 54,
   "id": "7076c65c-3323-4a30-8e27-9077e5e5d2d4",
   "metadata": {},
   "outputs": [],
   "source": [
    "n_con = control_results.count()\n",
    "n_treat = treatment_results.count()\n",
    "successes = [control_results.sum(), treatment_results.sum()]\n",
    "nobs = [n_con, n_treat]"
   ]
  },
  {
   "cell_type": "code",
   "execution_count": 55,
   "id": "257856e2-2898-4048-8a26-bd30adc00b59",
   "metadata": {},
   "outputs": [
    {
     "data": {
      "text/plain": [
       "[5000, 5000]"
      ]
     },
     "execution_count": 55,
     "metadata": {},
     "output_type": "execute_result"
    }
   ],
   "source": [
    "nobs"
   ]
  },
  {
   "cell_type": "code",
   "execution_count": 56,
   "id": "2b362075-378a-45fe-acdd-821f59c58f83",
   "metadata": {},
   "outputs": [
    {
     "data": {
      "text/plain": [
       "[616, 633]"
      ]
     },
     "execution_count": 56,
     "metadata": {},
     "output_type": "execute_result"
    }
   ],
   "source": [
    "successes"
   ]
  },
  {
   "cell_type": "code",
   "execution_count": 57,
   "id": "f1a0d737-d76a-4416-8da7-87032cdee399",
   "metadata": {},
   "outputs": [],
   "source": [
    "z_stat, pval = proportions_ztest(successes, nobs=nobs)"
   ]
  },
  {
   "cell_type": "code",
   "execution_count": 58,
   "id": "628dc657-fa0b-49ab-8087-709d00243485",
   "metadata": {},
   "outputs": [
    {
     "data": {
      "text/plain": [
       "-0.5142080369388495"
      ]
     },
     "execution_count": 58,
     "metadata": {},
     "output_type": "execute_result"
    }
   ],
   "source": [
    "z_stat"
   ]
  },
  {
   "cell_type": "code",
   "execution_count": 59,
   "id": "2762cd2e-e2d9-4a6a-a95b-665aa0434241",
   "metadata": {},
   "outputs": [
    {
     "data": {
      "text/plain": [
       "0.6071065493288474"
      ]
     },
     "execution_count": 59,
     "metadata": {},
     "output_type": "execute_result"
    }
   ],
   "source": [
    "pval"
   ]
  },
  {
   "cell_type": "code",
   "execution_count": 60,
   "id": "06c2f525-e799-495a-9db4-f18532849ebb",
   "metadata": {},
   "outputs": [],
   "source": [
    "(lower_con, lower_treat), (upper_con, upper_treat) = proportion_confint(successes, nobs=nobs, alpha=0.05)"
   ]
  },
  {
   "cell_type": "code",
   "execution_count": 61,
   "id": "91913848-4db3-4b5d-87cb-d4e34e2ab7d8",
   "metadata": {},
   "outputs": [
    {
     "name": "stdout",
     "output_type": "stream",
     "text": [
      "z statistic: -0.51\n",
      "p-value: 0.607\n",
      "ci 95% for control group: [0.114, 0.132]\n",
      "ci 95% for treatment group: [0.117, 0.136]\n"
     ]
    }
   ],
   "source": [
    "print(f'z statistic: {z_stat:.2f}')\n",
    "print(f'p-value: {pval:.3f}')\n",
    "print(f'ci 95% for control group: [{lower_con:.3f}, {upper_con:.3f}]')\n",
    "print(f'ci 95% for treatment group: [{lower_treat:.3f}, {upper_treat:.3f}]')"
   ]
  },
  {
   "cell_type": "markdown",
   "id": "0ac93a16-2fa7-4bbd-9da3-0efede1f26a0",
   "metadata": {},
   "source": [
    "### Step6：分析结果及建议"
   ]
  },
  {
   "cell_type": "markdown",
   "id": "adb08f08-66ec-41b5-ab7a-b04d6cf3cbc5",
   "metadata": {},
   "source": [
    "由于我们计算出来的P值=0.607远高于显著水平$\\alpha=0.05$，所以我们不能拒绝原假设H0.这意味着新版落地页与旧版落地页没有明显不同（更不用说更好了……）"
   ]
  },
  {
   "cell_type": "markdown",
   "id": "d2c5394e-146a-415f-98ec-b4ad6a54916f",
   "metadata": {},
   "source": [
    "此外，我们继续看置信区间，treatment组的置信区间为$[0.117,0.136]$，可以看出：\n",
    "- 它包括我们的转化率基准线13%\n",
    "- 它不包括我们的转化率目标值15%"
   ]
  },
  {
   "cell_type": "markdown",
   "id": "b3c02cf0-8fbb-4165-8d96-5767da0f7c8a",
   "metadata": {},
   "source": [
    "也可以说明，新版落地页的真实转化率更有可能与我们的基线相似，而没有办法达到我们期望的15%。进一步证明了，新版设计并不是一个很好的改进。"
   ]
  }
 ],
 "metadata": {
  "kernelspec": {
   "display_name": "Python 3",
   "language": "python",
   "name": "python3"
  },
  "language_info": {
   "codemirror_mode": {
    "name": "ipython",
    "version": 3
   },
   "file_extension": ".py",
   "mimetype": "text/x-python",
   "name": "python",
   "nbconvert_exporter": "python",
   "pygments_lexer": "ipython3",
   "version": "3.11.2"
  }
 },
 "nbformat": 4,
 "nbformat_minor": 5
}
